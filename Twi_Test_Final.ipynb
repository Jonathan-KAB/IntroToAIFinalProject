{
  "cells": [
    {
      "cell_type": "markdown",
      "metadata": {
        "id": "3z0ezDQ_QzpV"
      },
      "source": [
        "# README\n",
        "* If you are running this for the first time in Google Colab, you may need to run the pip install for streamlit to be on the safer side (it has been commented out below). However, if this is being run on Jupyter Notebook and you've already installed streamlit via Terminal/Command Prompt them you're good to go."
      ]
    },
    {
      "cell_type": "code",
      "execution_count": 1,
      "metadata": {
        "id": "gnYBIpqFP_IE"
      },
      "outputs": [],
      "source": [
        "#!pip install transformers torch\n",
        "#!pip install tkinter\n",
        "#!pip install streamlit\n",
        "#!pip install tf-keras\n",
        "#!pip install torch\n",
        "#!pip install accelerate -U\n",
        "#!pip install transformers\\[torch\\] accelerate -U\n",
        "#!pip install 'transformers[torch]' accelerate -U\n",
        "#!pip install datasets"
      ]
    },
    {
      "cell_type": "code",
      "execution_count": 2,
      "metadata": {
        "colab": {
          "base_uri": "https://localhost:8080/"
        },
        "id": "BjW6ZFtIzrDP",
        "outputId": "d14ff669-a1fd-4031-e1ca-2defd52139be"
      },
      "outputs": [
        {
          "output_type": "stream",
          "name": "stdout",
          "text": [
            "4.42.4\n",
            "0.32.1\n"
          ]
        }
      ],
      "source": [
        "import transformers\n",
        "import accelerate\n",
        "\n",
        "print(transformers.__version__)\n",
        "print(accelerate.__version__)"
      ]
    },
    {
      "cell_type": "code",
      "execution_count": 3,
      "metadata": {
        "id": "lXDf9jQ9QhSp"
      },
      "outputs": [],
      "source": [
        "import os\n",
        "import streamlit as st\n",
        "import torch\n",
        "from transformers import AutoTokenizer, AutoModelForMaskedLM, Trainer, TrainingArguments, EarlyStoppingCallback, get_linear_schedule_with_warmup\n",
        "from sklearn.model_selection import train_test_split\n",
        "import random\n",
        "import nltk\n",
        "from nltk.tokenize import word_tokenize\n",
        "import string\n",
        "import pandas as pd\n",
        "import numpy as np\n",
        "from torch.optim.lr_scheduler import ReduceLROnPlateau\n",
        "import matplotlib.pyplot as plt\n",
        "from datasets import load_dataset"
      ]
    },
    {
      "cell_type": "markdown",
      "metadata": {
        "id": "jJ-XC5e-QkDh"
      },
      "source": [
        "# Limitations that had to be addressed\n",
        "* Due to the fact that Colab limits the amount of RAM users have access to at any given time, we had to use a few crafty workaround in order for the program to load our large dataset (such as enable GPU acceleration, splitting the dataset into chunks, and processing them separately)"
      ]
    },
    {
      "cell_type": "code",
      "execution_count": 4,
      "metadata": {
        "id": "xuvYQcukO4KH"
      },
      "outputs": [],
      "source": [
        "# GPU/TPU acceleration in Colab\n",
        "device = torch.device('cuda' if torch.cuda.is_available() else 'cpu')"
      ]
    },
    {
      "cell_type": "code",
      "execution_count": 5,
      "metadata": {
        "id": "yPkoQ62vKQxZ"
      },
      "outputs": [],
      "source": [
        "# Dataset file uploader\n",
        "# from google.colab import files\n",
        "# uploaded = files.upload()"
      ]
    },
    {
      "cell_type": "code",
      "execution_count": 65,
      "metadata": {
        "colab": {
          "base_uri": "https://localhost:8080/"
        },
        "id": "lJgS_fPTKvho",
        "outputId": "e61268aa-6e84-4657-d3a6-78c5a4053510"
      },
      "outputs": [
        {
          "output_type": "stream",
          "name": "stdout",
          "text": [
            "Drive already mounted at /content/drive; to attempt to forcibly remount, call drive.mount(\"/content/drive\", force_remount=True).\n"
          ]
        }
      ],
      "source": [
        "from google.colab import drive\n",
        "drive.mount('/content/drive')"
      ]
    },
    {
      "cell_type": "code",
      "execution_count": 66,
      "metadata": {
        "id": "BE-7OYblKznv"
      },
      "outputs": [],
      "source": [
        "file_path = '/content/drive/MyDrive/twi-dataset.txt'  # Adjust path as necessary\n",
        "df = pd.read_csv(file_path, delimiter='\\t', header=None, names=['English', 'Twi'])"
      ]
    },
    {
      "cell_type": "code",
      "execution_count": 67,
      "metadata": {
        "id": "N0gLchnWKWoH"
      },
      "outputs": [],
      "source": [
        "# Sample a smaller subset of the dataset (e.g., 10% of the data)\n",
        "subset_fraction = 0.1  # Adjust the fraction as needed\n",
        "subset_df = df.sample(frac=subset_fraction, random_state=42)"
      ]
    },
    {
      "cell_type": "code",
      "source": [
        "subset_df.head()"
      ],
      "metadata": {
        "colab": {
          "base_uri": "https://localhost:8080/",
          "height": 293
        },
        "id": "ezlmv76AI8PY",
        "outputId": "56da39b1-0c89-4a53-c9af-c26819c9d2e1"
      },
      "execution_count": 68,
      "outputs": [
        {
          "output_type": "execute_result",
          "data": {
            "text/plain": [
              "                                                  English  \\\n",
              "383158  In displaying generosity Nehemiah set an outst...   \n",
              "82257   One day while in Eidelstedt I was reading from...   \n",
              "374539  The last book of the Bible identifies Jesus as...   \n",
              "299283  The unrelenting wind threatens the existence o...   \n",
              "122119  The bottom line If you are experiencing proble...   \n",
              "\n",
              "                                                      Twi  \n",
              "383158  Nehemia yɛɛ ayamye ho nhwɛso a ɛsen biara maa ...  \n",
              "82257   Da bi bere a na yɛwɔ Eidelstedt no na merekenk...  \n",
              "374539  Bible nhoma a etwa to no da no adi sɛ Yesu yɛ ...  \n",
              "299283  Mframa a ano yɛ den a ɛbɔ bere nyinaa no haw a...  \n",
              "122119  Yɛbɛtwa no tiaa a sɛ worehyia ɔhaw wɔ w’awareɛ...  "
            ],
            "text/html": [
              "\n",
              "  <div id=\"df-e124afc5-d505-427d-80ef-95a0a44b2646\" class=\"colab-df-container\">\n",
              "    <div>\n",
              "<style scoped>\n",
              "    .dataframe tbody tr th:only-of-type {\n",
              "        vertical-align: middle;\n",
              "    }\n",
              "\n",
              "    .dataframe tbody tr th {\n",
              "        vertical-align: top;\n",
              "    }\n",
              "\n",
              "    .dataframe thead th {\n",
              "        text-align: right;\n",
              "    }\n",
              "</style>\n",
              "<table border=\"1\" class=\"dataframe\">\n",
              "  <thead>\n",
              "    <tr style=\"text-align: right;\">\n",
              "      <th></th>\n",
              "      <th>English</th>\n",
              "      <th>Twi</th>\n",
              "    </tr>\n",
              "  </thead>\n",
              "  <tbody>\n",
              "    <tr>\n",
              "      <th>383158</th>\n",
              "      <td>In displaying generosity Nehemiah set an outst...</td>\n",
              "      <td>Nehemia yɛɛ ayamye ho nhwɛso a ɛsen biara maa ...</td>\n",
              "    </tr>\n",
              "    <tr>\n",
              "      <th>82257</th>\n",
              "      <td>One day while in Eidelstedt I was reading from...</td>\n",
              "      <td>Da bi bere a na yɛwɔ Eidelstedt no na merekenk...</td>\n",
              "    </tr>\n",
              "    <tr>\n",
              "      <th>374539</th>\n",
              "      <td>The last book of the Bible identifies Jesus as...</td>\n",
              "      <td>Bible nhoma a etwa to no da no adi sɛ Yesu yɛ ...</td>\n",
              "    </tr>\n",
              "    <tr>\n",
              "      <th>299283</th>\n",
              "      <td>The unrelenting wind threatens the existence o...</td>\n",
              "      <td>Mframa a ano yɛ den a ɛbɔ bere nyinaa no haw a...</td>\n",
              "    </tr>\n",
              "    <tr>\n",
              "      <th>122119</th>\n",
              "      <td>The bottom line If you are experiencing proble...</td>\n",
              "      <td>Yɛbɛtwa no tiaa a sɛ worehyia ɔhaw wɔ w’awareɛ...</td>\n",
              "    </tr>\n",
              "  </tbody>\n",
              "</table>\n",
              "</div>\n",
              "    <div class=\"colab-df-buttons\">\n",
              "\n",
              "  <div class=\"colab-df-container\">\n",
              "    <button class=\"colab-df-convert\" onclick=\"convertToInteractive('df-e124afc5-d505-427d-80ef-95a0a44b2646')\"\n",
              "            title=\"Convert this dataframe to an interactive table.\"\n",
              "            style=\"display:none;\">\n",
              "\n",
              "  <svg xmlns=\"http://www.w3.org/2000/svg\" height=\"24px\" viewBox=\"0 -960 960 960\">\n",
              "    <path d=\"M120-120v-720h720v720H120Zm60-500h600v-160H180v160Zm220 220h160v-160H400v160Zm0 220h160v-160H400v160ZM180-400h160v-160H180v160Zm440 0h160v-160H620v160ZM180-180h160v-160H180v160Zm440 0h160v-160H620v160Z\"/>\n",
              "  </svg>\n",
              "    </button>\n",
              "\n",
              "  <style>\n",
              "    .colab-df-container {\n",
              "      display:flex;\n",
              "      gap: 12px;\n",
              "    }\n",
              "\n",
              "    .colab-df-convert {\n",
              "      background-color: #E8F0FE;\n",
              "      border: none;\n",
              "      border-radius: 50%;\n",
              "      cursor: pointer;\n",
              "      display: none;\n",
              "      fill: #1967D2;\n",
              "      height: 32px;\n",
              "      padding: 0 0 0 0;\n",
              "      width: 32px;\n",
              "    }\n",
              "\n",
              "    .colab-df-convert:hover {\n",
              "      background-color: #E2EBFA;\n",
              "      box-shadow: 0px 1px 2px rgba(60, 64, 67, 0.3), 0px 1px 3px 1px rgba(60, 64, 67, 0.15);\n",
              "      fill: #174EA6;\n",
              "    }\n",
              "\n",
              "    .colab-df-buttons div {\n",
              "      margin-bottom: 4px;\n",
              "    }\n",
              "\n",
              "    [theme=dark] .colab-df-convert {\n",
              "      background-color: #3B4455;\n",
              "      fill: #D2E3FC;\n",
              "    }\n",
              "\n",
              "    [theme=dark] .colab-df-convert:hover {\n",
              "      background-color: #434B5C;\n",
              "      box-shadow: 0px 1px 3px 1px rgba(0, 0, 0, 0.15);\n",
              "      filter: drop-shadow(0px 1px 2px rgba(0, 0, 0, 0.3));\n",
              "      fill: #FFFFFF;\n",
              "    }\n",
              "  </style>\n",
              "\n",
              "    <script>\n",
              "      const buttonEl =\n",
              "        document.querySelector('#df-e124afc5-d505-427d-80ef-95a0a44b2646 button.colab-df-convert');\n",
              "      buttonEl.style.display =\n",
              "        google.colab.kernel.accessAllowed ? 'block' : 'none';\n",
              "\n",
              "      async function convertToInteractive(key) {\n",
              "        const element = document.querySelector('#df-e124afc5-d505-427d-80ef-95a0a44b2646');\n",
              "        const dataTable =\n",
              "          await google.colab.kernel.invokeFunction('convertToInteractive',\n",
              "                                                    [key], {});\n",
              "        if (!dataTable) return;\n",
              "\n",
              "        const docLinkHtml = 'Like what you see? Visit the ' +\n",
              "          '<a target=\"_blank\" href=https://colab.research.google.com/notebooks/data_table.ipynb>data table notebook</a>'\n",
              "          + ' to learn more about interactive tables.';\n",
              "        element.innerHTML = '';\n",
              "        dataTable['output_type'] = 'display_data';\n",
              "        await google.colab.output.renderOutput(dataTable, element);\n",
              "        const docLink = document.createElement('div');\n",
              "        docLink.innerHTML = docLinkHtml;\n",
              "        element.appendChild(docLink);\n",
              "      }\n",
              "    </script>\n",
              "  </div>\n",
              "\n",
              "\n",
              "<div id=\"df-be2e2445-e57d-4964-a3ec-dfb0d52595b1\">\n",
              "  <button class=\"colab-df-quickchart\" onclick=\"quickchart('df-be2e2445-e57d-4964-a3ec-dfb0d52595b1')\"\n",
              "            title=\"Suggest charts\"\n",
              "            style=\"display:none;\">\n",
              "\n",
              "<svg xmlns=\"http://www.w3.org/2000/svg\" height=\"24px\"viewBox=\"0 0 24 24\"\n",
              "     width=\"24px\">\n",
              "    <g>\n",
              "        <path d=\"M19 3H5c-1.1 0-2 .9-2 2v14c0 1.1.9 2 2 2h14c1.1 0 2-.9 2-2V5c0-1.1-.9-2-2-2zM9 17H7v-7h2v7zm4 0h-2V7h2v10zm4 0h-2v-4h2v4z\"/>\n",
              "    </g>\n",
              "</svg>\n",
              "  </button>\n",
              "\n",
              "<style>\n",
              "  .colab-df-quickchart {\n",
              "      --bg-color: #E8F0FE;\n",
              "      --fill-color: #1967D2;\n",
              "      --hover-bg-color: #E2EBFA;\n",
              "      --hover-fill-color: #174EA6;\n",
              "      --disabled-fill-color: #AAA;\n",
              "      --disabled-bg-color: #DDD;\n",
              "  }\n",
              "\n",
              "  [theme=dark] .colab-df-quickchart {\n",
              "      --bg-color: #3B4455;\n",
              "      --fill-color: #D2E3FC;\n",
              "      --hover-bg-color: #434B5C;\n",
              "      --hover-fill-color: #FFFFFF;\n",
              "      --disabled-bg-color: #3B4455;\n",
              "      --disabled-fill-color: #666;\n",
              "  }\n",
              "\n",
              "  .colab-df-quickchart {\n",
              "    background-color: var(--bg-color);\n",
              "    border: none;\n",
              "    border-radius: 50%;\n",
              "    cursor: pointer;\n",
              "    display: none;\n",
              "    fill: var(--fill-color);\n",
              "    height: 32px;\n",
              "    padding: 0;\n",
              "    width: 32px;\n",
              "  }\n",
              "\n",
              "  .colab-df-quickchart:hover {\n",
              "    background-color: var(--hover-bg-color);\n",
              "    box-shadow: 0 1px 2px rgba(60, 64, 67, 0.3), 0 1px 3px 1px rgba(60, 64, 67, 0.15);\n",
              "    fill: var(--button-hover-fill-color);\n",
              "  }\n",
              "\n",
              "  .colab-df-quickchart-complete:disabled,\n",
              "  .colab-df-quickchart-complete:disabled:hover {\n",
              "    background-color: var(--disabled-bg-color);\n",
              "    fill: var(--disabled-fill-color);\n",
              "    box-shadow: none;\n",
              "  }\n",
              "\n",
              "  .colab-df-spinner {\n",
              "    border: 2px solid var(--fill-color);\n",
              "    border-color: transparent;\n",
              "    border-bottom-color: var(--fill-color);\n",
              "    animation:\n",
              "      spin 1s steps(1) infinite;\n",
              "  }\n",
              "\n",
              "  @keyframes spin {\n",
              "    0% {\n",
              "      border-color: transparent;\n",
              "      border-bottom-color: var(--fill-color);\n",
              "      border-left-color: var(--fill-color);\n",
              "    }\n",
              "    20% {\n",
              "      border-color: transparent;\n",
              "      border-left-color: var(--fill-color);\n",
              "      border-top-color: var(--fill-color);\n",
              "    }\n",
              "    30% {\n",
              "      border-color: transparent;\n",
              "      border-left-color: var(--fill-color);\n",
              "      border-top-color: var(--fill-color);\n",
              "      border-right-color: var(--fill-color);\n",
              "    }\n",
              "    40% {\n",
              "      border-color: transparent;\n",
              "      border-right-color: var(--fill-color);\n",
              "      border-top-color: var(--fill-color);\n",
              "    }\n",
              "    60% {\n",
              "      border-color: transparent;\n",
              "      border-right-color: var(--fill-color);\n",
              "    }\n",
              "    80% {\n",
              "      border-color: transparent;\n",
              "      border-right-color: var(--fill-color);\n",
              "      border-bottom-color: var(--fill-color);\n",
              "    }\n",
              "    90% {\n",
              "      border-color: transparent;\n",
              "      border-bottom-color: var(--fill-color);\n",
              "    }\n",
              "  }\n",
              "</style>\n",
              "\n",
              "  <script>\n",
              "    async function quickchart(key) {\n",
              "      const quickchartButtonEl =\n",
              "        document.querySelector('#' + key + ' button');\n",
              "      quickchartButtonEl.disabled = true;  // To prevent multiple clicks.\n",
              "      quickchartButtonEl.classList.add('colab-df-spinner');\n",
              "      try {\n",
              "        const charts = await google.colab.kernel.invokeFunction(\n",
              "            'suggestCharts', [key], {});\n",
              "      } catch (error) {\n",
              "        console.error('Error during call to suggestCharts:', error);\n",
              "      }\n",
              "      quickchartButtonEl.classList.remove('colab-df-spinner');\n",
              "      quickchartButtonEl.classList.add('colab-df-quickchart-complete');\n",
              "    }\n",
              "    (() => {\n",
              "      let quickchartButtonEl =\n",
              "        document.querySelector('#df-be2e2445-e57d-4964-a3ec-dfb0d52595b1 button');\n",
              "      quickchartButtonEl.style.display =\n",
              "        google.colab.kernel.accessAllowed ? 'block' : 'none';\n",
              "    })();\n",
              "  </script>\n",
              "</div>\n",
              "\n",
              "    </div>\n",
              "  </div>\n"
            ],
            "application/vnd.google.colaboratory.intrinsic+json": {
              "type": "dataframe",
              "variable_name": "subset_df",
              "summary": "{\n  \"name\": \"subset_df\",\n  \"rows\": 59459,\n  \"fields\": [\n    {\n      \"column\": \"English\",\n      \"properties\": {\n        \"dtype\": \"string\",\n        \"num_unique_values\": 55586,\n        \"samples\": [\n          \"Miguel worked hard to have the murderer prosecuted and jailed .\",\n          \"She explained to the man with whom she was living that they could stay together only if they got legally married .\",\n          \"However I witnessed shocking sexual immorality between priests and nuns .\"\n        ],\n        \"semantic_type\": \"\",\n        \"description\": \"\"\n      }\n    },\n    {\n      \"column\": \"Twi\",\n      \"properties\": {\n        \"dtype\": \"string\",\n        \"num_unique_values\": 55748,\n        \"samples\": [\n          \"W\\u0254maa adesuafo no awer\\u025bhyem s\\u025b na ntetee a Yehowa ahyehy\\u025bde no de ama w\\u0254n no asiesie w\\u0254n yiye ama w\\u0254n as\\u025bmpatr\\u025bw dwumadi ahorow no .\",\n          \"Anky\\u025b koraa na Yudafo Anu\\u0254denfo no san baa Yerusalem na w\\u0254b\\u025bhy\\u025b\\u025b kurow no mufo a w\\u0254aka no s\\u025b w\\u0254mm\\u025bka w\\u0254n ho mma w\\u0254ntew atua .\",\n          \"\\u0190te s\\u025b Nhoma Foforo Biara Anaa ?\"\n        ],\n        \"semantic_type\": \"\",\n        \"description\": \"\"\n      }\n    }\n  ]\n}"
            }
          },
          "metadata": {},
          "execution_count": 68
        }
      ]
    },
    {
      "cell_type": "code",
      "source": [
        "twi_sentences = subset_df['Twi'].tolist()"
      ],
      "metadata": {
        "id": "OLXPB1utD4BO"
      },
      "execution_count": 69,
      "outputs": []
    },
    {
      "cell_type": "code",
      "source": [
        "twi_only_path = '/content/twi_only_dataset.txt'"
      ],
      "metadata": {
        "id": "r10YzYh3D5VC"
      },
      "execution_count": 70,
      "outputs": []
    },
    {
      "cell_type": "code",
      "source": [
        "with open(twi_only_path, 'w') as file:\n",
        "    for sentence in twi_sentences:\n",
        "        file.write(sentence + '\\n')  # Ensure each sentence is written on a new line"
      ],
      "metadata": {
        "id": "J-NybZrLGsqU"
      },
      "execution_count": 72,
      "outputs": []
    },
    {
      "cell_type": "code",
      "source": [
        "# Verify the content of the file\n",
        "with open(twi_only_path, 'r') as file:\n",
        "    content = file.read()\n",
        "    print(\"Content of sampled_twi_dataset.txt:\")\n",
        "    print(content[:500])  # Print the first 500 characters to verify the content"
      ],
      "metadata": {
        "colab": {
          "base_uri": "https://localhost:8080/"
        },
        "id": "bH6wH4PwI17E",
        "outputId": "6bc84303-0582-48b0-bb83-153472cc9318"
      },
      "execution_count": 73,
      "outputs": [
        {
          "output_type": "stream",
          "name": "stdout",
          "text": [
            "Content of sampled_twi_dataset.txt:\n",
            "Nehemia yɛɛ ayamye ho nhwɛso a ɛsen biara maa Onyankopɔn asomfo nyinaa .\n",
            "Da bi bere a na yɛwɔ Eidelstedt no na merekenkan Bible akyerɛ mmea no mu kakraa bi .\n",
            "Bible nhoma a etwa to no da no adi sɛ Yesu yɛ Onyankopɔn adebɔ mfiase . \n",
            "Mframa a ano yɛ den a ɛbɔ bere nyinaa no haw alpine nnua no denam wim hyew a ɛbrɛ no ase na ɛma mframa ne dɔte no mu yɛ wesee na etutu nnua no gu no so .\n",
            "Yɛbɛtwa no tiaa a sɛ worehyia ɔhaw wɔ w’awareɛ mu a ɛnyɛ saa bere no na ɛsɛ sɛ woma w’adwenem yɛ wo naa .\n",
            "Esiane sɛ\n"
          ]
        }
      ]
    },
    {
      "cell_type": "code",
      "source": [
        "with open(twi_only_path, 'r') as file:\n",
        "    num_lines = sum(1 for line in file)\n",
        "\n",
        "print(f\"The sampled Twi dataset contains {num_lines} lines.\")"
      ],
      "metadata": {
        "colab": {
          "base_uri": "https://localhost:8080/"
        },
        "id": "Gn-Uph4yGIBu",
        "outputId": "ca8a1487-d74e-4666-d47c-11423656a133"
      },
      "execution_count": 74,
      "outputs": [
        {
          "output_type": "stream",
          "name": "stdout",
          "text": [
            "The sampled Twi dataset contains 59459 lines.\n"
          ]
        }
      ]
    },
    {
      "cell_type": "code",
      "source": [
        "!wc -l /content/twi_only_dataset.txt"
      ],
      "metadata": {
        "colab": {
          "base_uri": "https://localhost:8080/"
        },
        "id": "L1crLC-SIYFD",
        "outputId": "0ed3b56e-f912-4d1b-e0a2-996a75569ddc"
      },
      "execution_count": 75,
      "outputs": [
        {
          "output_type": "stream",
          "name": "stdout",
          "text": [
            "59459 /content/twi_only_dataset.txt\n"
          ]
        }
      ]
    },
    {
      "cell_type": "code",
      "source": [
        "twi_df = pd.read_csv(twi_only_path, header=None, names=['Twi'])"
      ],
      "metadata": {
        "id": "F4TCry8LJc7z"
      },
      "execution_count": 77,
      "outputs": []
    },
    {
      "cell_type": "code",
      "execution_count": 12,
      "metadata": {
        "id": "hUCCJOfZKYTi"
      },
      "outputs": [],
      "source": [
        "# print(df.head())"
      ]
    },
    {
      "cell_type": "code",
      "execution_count": 13,
      "metadata": {
        "id": "D4stOLHFo6BD"
      },
      "outputs": [],
      "source": [
        "# This is an example dataset to help fine tune GhanaNLP\n",
        "# english_and_twi_data = {\n",
        "#     \"English\": [\"Hello\", \"How are you?\", \"I am fine\", \"What is your name?\", \"My name is John\",\n",
        "#                 \"Where are you going?\", \"I am going to school\", \"I love you\", \"Thank you\",\n",
        "#                 \"Good morning\", \"Good evening\", \"Good night\", \"Yes\", \"No\", \"Please\", \"Sorry\"],\n",
        "#     \"Twi\": [\"Afehyia pa\", \"Wo ho te sɛn?\", \"Me ho yɛ\", \"Wo din de sɛn?\", \"Me din de John\",\n",
        "#             \"Worekɔ he?\", \"Merekɔ sukuu\", \"Medɔ wo\", \"Medase\", \"Maakye\", \"Maadwo\", \"Da yie\",\n",
        "#             \"Aane\", \"Dabi\", \"Mepa wo kyɛw\", \"Kosɛ\"]\n",
        "# }"
      ]
    },
    {
      "cell_type": "code",
      "execution_count": 14,
      "metadata": {
        "id": "tZcaHaTcpeKh"
      },
      "outputs": [],
      "source": [
        "# df = pd.DataFrame(english_and_twi_data)\n",
        "# df.to_csv('twi_sentences.csv', index=False)"
      ]
    },
    {
      "cell_type": "code",
      "execution_count": 15,
      "metadata": {
        "id": "3Ds7VvJ_p0nP"
      },
      "outputs": [],
      "source": [
        "# df = pd.read_csv('twi_sentences.csv')"
      ]
    },
    {
      "cell_type": "code",
      "execution_count": 16,
      "metadata": {
        "id": "lB-d8kXxrq__"
      },
      "outputs": [],
      "source": [
        "# train_df, test_df = train_test_split(df, test_size=0.1)"
      ]
    },
    {
      "cell_type": "code",
      "execution_count": 17,
      "metadata": {
        "id": "aWu2T2Exr9Se"
      },
      "outputs": [],
      "source": [
        "# train_sentences = train_df['English'].tolist()\n",
        "# test_sentences = test_df['English'].tolist()"
      ]
    },
    {
      "cell_type": "code",
      "execution_count": 78,
      "metadata": {
        "colab": {
          "base_uri": "https://localhost:8080/",
          "height": 240,
          "referenced_widgets": [
            "6a97c2782cb44bf28c28e99482b51e41",
            "dbb3560fbc78442f9588a9f0edbabddb",
            "70d059ad39aa425987a457afffae9e15",
            "afe6ccd613a3416b94c00ff0f936d1c0",
            "8c3ad24626d94f47bdf472f6df66610d",
            "32073c8dd4c542e682fd929a9be27a85",
            "3c08e8a9439c495481c56567d1228dfa",
            "5b07a40fdd5a42e793ab133574e3413e",
            "53a27c8aceaf49b4b15f723ca930abbd",
            "429e365f7c14479bb99fa886fc6a2a91",
            "5b3b4710522f46eeb36b1d8187663b90",
            "77dbceb18e7d4f8d8bf5de3b1ba63c72",
            "02d5e20ec44e4957a022ca81ec1e76a1",
            "003958e55a4d494eba5229a09af7558b",
            "1eedb9cfc708411499e9ea429370f845",
            "ac360cfefe5745ddae1d7915655bacf0",
            "3b7542d9ea564c3ea0a400258c599379",
            "bebf5567de0441368f9320e3f0e0059e",
            "e9e5d4394e6e4de7a3438d9f64011023",
            "750481a40d24461e9e2bac921e43d141",
            "0048be48162d4312afdc38bdfca52acc",
            "60d292d2471743a6bc5df0590adaf412",
            "42a3a8053da041bf97fae3d57297541c",
            "583ae67509fd46b78d00304d5f8cf429",
            "809d3ff073d74e58bc59e7d812b96847",
            "7cc5576335ce4ae5a7b9c7d65b3a3e22",
            "130d0243816f4ab29992f4dc49e6ed68",
            "df598a811aff4ca29d3d4514501db3b9",
            "c342925977954cc887fc2074728cd654",
            "c277d134865840cd83c24e487467bf45",
            "51e5cff4cff745c5a36aee0ff8558042",
            "c981e3c0051c4812847ef0589d74ec61",
            "ae5e6cd8edb240d5936b9208d1535092"
          ]
        },
        "id": "rolF3o0Ert00",
        "outputId": "cc4c2d82-d237-4092-bc13-e663f8190b0c"
      },
      "outputs": [
        {
          "output_type": "stream",
          "name": "stderr",
          "text": [
            "/usr/local/lib/python3.10/dist-packages/huggingface_hub/utils/_token.py:89: UserWarning: \n",
            "The secret `HF_TOKEN` does not exist in your Colab secrets.\n",
            "To authenticate with the Hugging Face Hub, create a token in your settings tab (https://huggingface.co/settings/tokens), set it as secret in your Google Colab and restart your session.\n",
            "You will be able to reuse this secret in all of your notebooks.\n",
            "Please note that authentication is recommended but still optional to access public models or datasets.\n",
            "  warnings.warn(\n"
          ]
        },
        {
          "output_type": "display_data",
          "data": {
            "text/plain": [
              "config.json:   0%|          | 0.00/515 [00:00<?, ?B/s]"
            ],
            "application/vnd.jupyter.widget-view+json": {
              "version_major": 2,
              "version_minor": 0,
              "model_id": "6a97c2782cb44bf28c28e99482b51e41"
            }
          },
          "metadata": {}
        },
        {
          "output_type": "display_data",
          "data": {
            "text/plain": [
              "vocab.json:   0%|          | 0.00/881k [00:00<?, ?B/s]"
            ],
            "application/vnd.jupyter.widget-view+json": {
              "version_major": 2,
              "version_minor": 0,
              "model_id": "77dbceb18e7d4f8d8bf5de3b1ba63c72"
            }
          },
          "metadata": {}
        },
        {
          "output_type": "display_data",
          "data": {
            "text/plain": [
              "merges.txt:   0%|          | 0.00/527k [00:00<?, ?B/s]"
            ],
            "application/vnd.jupyter.widget-view+json": {
              "version_major": 2,
              "version_minor": 0,
              "model_id": "42a3a8053da041bf97fae3d57297541c"
            }
          },
          "metadata": {}
        }
      ],
      "source": [
        "tokenizer = AutoTokenizer.from_pretrained('Ghana-NLP/robako-base-asante-twi-uncased')"
      ]
    },
    {
      "cell_type": "code",
      "execution_count": 79,
      "metadata": {
        "id": "kqYqQFE-7Fb_"
      },
      "outputs": [],
      "source": [
        "def tokenize_and_mask(sentences, tokenizer, max_length=128, mask_probability=0.15):\n",
        "    encodings = tokenizer(sentences, truncation=True, padding='max_length', max_length=max_length, return_tensors='pt')\n",
        "    labels = encodings['input_ids'].clone()\n",
        "\n",
        "    probability_matrix = torch.full(labels.shape, mask_probability)\n",
        "    special_tokens_mask = [\n",
        "        tokenizer.get_special_tokens_mask(val, already_has_special_tokens=True) for val in labels.tolist()\n",
        "    ]\n",
        "    probability_matrix.masked_fill_(torch.tensor(special_tokens_mask, dtype=torch.bool), value=0.0)\n",
        "    masked_indices = torch.bernoulli(probability_matrix).bool()\n",
        "    labels[~masked_indices] = -100\n",
        "\n",
        "    indices_replaced = torch.bernoulli(torch.full(labels.shape, 0.8)).bool() & masked_indices\n",
        "    encodings['input_ids'][indices_replaced] = tokenizer.convert_tokens_to_ids(tokenizer.mask_token)\n",
        "\n",
        "    indices_random = torch.bernoulli(torch.full(labels.shape, 0.1)).bool() & masked_indices & ~indices_replaced\n",
        "    random_words = torch.randint(len(tokenizer), labels.shape, dtype=torch.long)\n",
        "    encodings['input_ids'][indices_random] = random_words[indices_random]\n",
        "\n",
        "    return encodings, labels"
      ]
    },
    {
      "cell_type": "code",
      "execution_count": 80,
      "metadata": {
        "id": "V79EVv5_7Gq7"
      },
      "outputs": [],
      "source": [
        "# train_encodings, train_labels = tokenize_and_mask(train_sentences, tokenizer)\n",
        "# test_encodings, test_labels = tokenize_and_mask(test_sentences, tokenizer)"
      ]
    },
    {
      "cell_type": "code",
      "execution_count": 81,
      "metadata": {
        "id": "O5mbjkh46rVb"
      },
      "outputs": [],
      "source": [
        "class CustomMaskedLM(AutoModelForMaskedLM):\n",
        "    def __init__(self, config):\n",
        "        super().__init__(config)\n",
        "        self.dropout = nn.Dropout(p=0.1)  # Add dropout with 10% probability\n",
        "\n",
        "    def forward(self, *args, **kwargs):\n",
        "        outputs = super().forward(*args, **kwargs)\n",
        "        outputs.logits = self.dropout(outputs.logits)\n",
        "        return outputs"
      ]
    },
    {
      "cell_type": "code",
      "execution_count": 82,
      "metadata": {
        "colab": {
          "base_uri": "https://localhost:8080/",
          "height": 944,
          "referenced_widgets": [
            "65eef0e8287646278de00e12cf298de6",
            "a6bf471e1c69456382ecb2e6f8ceb93c",
            "18c3ca89854f40d0a5e01b250f4194ff",
            "4d5b8100cda84773866ce872b069be35",
            "6d0e3c7f1850499c9961768b3639f0e1",
            "d535071933de44ebac562d8d881de20e",
            "9d1d97938834487abb65d366ccfd9d46",
            "b499785baa354d1294819eb523b2e453",
            "08a8467136de4362a3eb54ea26e6fb40",
            "50fd716c2b1949f387d8f7418e271abb",
            "f0635cfa27014243a4df0ba5c3617cfa"
          ]
        },
        "id": "4XzEBeT1007q",
        "outputId": "6e2f4f14-6ef2-4ea8-f76a-907c9a6ae1ad"
      },
      "outputs": [
        {
          "output_type": "display_data",
          "data": {
            "text/plain": [
              "pytorch_model.bin:   0%|          | 0.00/336M [00:00<?, ?B/s]"
            ],
            "application/vnd.jupyter.widget-view+json": {
              "version_major": 2,
              "version_minor": 0,
              "model_id": "65eef0e8287646278de00e12cf298de6"
            }
          },
          "metadata": {}
        },
        {
          "output_type": "stream",
          "name": "stderr",
          "text": [
            "Some weights of the model checkpoint at Ghana-NLP/robako-base-asante-twi-uncased were not used when initializing RobertaForMaskedLM: ['roberta.pooler.dense.bias', 'roberta.pooler.dense.weight']\n",
            "- This IS expected if you are initializing RobertaForMaskedLM from the checkpoint of a model trained on another task or with another architecture (e.g. initializing a BertForSequenceClassification model from a BertForPreTraining model).\n",
            "- This IS NOT expected if you are initializing RobertaForMaskedLM from the checkpoint of a model that you expect to be exactly identical (initializing a BertForSequenceClassification model from a BertForSequenceClassification model).\n"
          ]
        },
        {
          "output_type": "execute_result",
          "data": {
            "text/plain": [
              "RobertaForMaskedLM(\n",
              "  (roberta): RobertaModel(\n",
              "    (embeddings): RobertaEmbeddings(\n",
              "      (word_embeddings): Embedding(52000, 768, padding_idx=1)\n",
              "      (position_embeddings): Embedding(514, 768, padding_idx=1)\n",
              "      (token_type_embeddings): Embedding(1, 768)\n",
              "      (LayerNorm): LayerNorm((768,), eps=1e-12, elementwise_affine=True)\n",
              "      (dropout): Dropout(p=0.1, inplace=False)\n",
              "    )\n",
              "    (encoder): RobertaEncoder(\n",
              "      (layer): ModuleList(\n",
              "        (0-5): 6 x RobertaLayer(\n",
              "          (attention): RobertaAttention(\n",
              "            (self): RobertaSelfAttention(\n",
              "              (query): Linear(in_features=768, out_features=768, bias=True)\n",
              "              (key): Linear(in_features=768, out_features=768, bias=True)\n",
              "              (value): Linear(in_features=768, out_features=768, bias=True)\n",
              "              (dropout): Dropout(p=0.1, inplace=False)\n",
              "            )\n",
              "            (output): RobertaSelfOutput(\n",
              "              (dense): Linear(in_features=768, out_features=768, bias=True)\n",
              "              (LayerNorm): LayerNorm((768,), eps=1e-12, elementwise_affine=True)\n",
              "              (dropout): Dropout(p=0.1, inplace=False)\n",
              "            )\n",
              "          )\n",
              "          (intermediate): RobertaIntermediate(\n",
              "            (dense): Linear(in_features=768, out_features=3072, bias=True)\n",
              "            (intermediate_act_fn): GELUActivation()\n",
              "          )\n",
              "          (output): RobertaOutput(\n",
              "            (dense): Linear(in_features=3072, out_features=768, bias=True)\n",
              "            (LayerNorm): LayerNorm((768,), eps=1e-12, elementwise_affine=True)\n",
              "            (dropout): Dropout(p=0.1, inplace=False)\n",
              "          )\n",
              "        )\n",
              "      )\n",
              "    )\n",
              "  )\n",
              "  (lm_head): RobertaLMHead(\n",
              "    (dense): Linear(in_features=768, out_features=768, bias=True)\n",
              "    (layer_norm): LayerNorm((768,), eps=1e-12, elementwise_affine=True)\n",
              "    (decoder): Linear(in_features=768, out_features=52000, bias=True)\n",
              "  )\n",
              ")"
            ]
          },
          "metadata": {},
          "execution_count": 82
        }
      ],
      "source": [
        "# Initialize the model\n",
        "model = CustomMaskedLM.from_pretrained('Ghana-NLP/robako-base-asante-twi-uncased')\n",
        "model.to(device)"
      ]
    },
    {
      "cell_type": "code",
      "execution_count": 83,
      "metadata": {
        "id": "wN9AZ43W0d3W"
      },
      "outputs": [],
      "source": [
        "# Split the subset into training and test sets\n",
        "train_df, test_df = train_test_split(twi_df, test_size=0.1, random_state=42)"
      ]
    },
    {
      "cell_type": "code",
      "source": [
        "train_path = '/content/train_twi_dataset.txt'\n",
        "test_path = '/content/test_twi_dataset.txt'"
      ],
      "metadata": {
        "id": "v4UIXc8yKDRN"
      },
      "execution_count": 84,
      "outputs": []
    },
    {
      "cell_type": "code",
      "source": [
        "train_df.to_csv(train_path, index=False, header=False)\n",
        "test_df.to_csv(test_path, index=False, header=False)"
      ],
      "metadata": {
        "id": "D97b8aoMKFPq"
      },
      "execution_count": 85,
      "outputs": []
    },
    {
      "cell_type": "code",
      "source": [
        "# Verify the content of the train and test files\n",
        "with open(train_path, 'r') as file:\n",
        "    train_content = file.read()\n",
        "    print(\"Content of train_twi_dataset.txt:\")\n",
        "    print(train_content[:500])  # Print the first 500 characters to verify the content\n",
        "\n",
        "with open(test_path, 'r') as file:\n",
        "    test_content = file.read()\n",
        "    print(\"Content of test_twi_dataset.txt:\")\n",
        "    print(test_content[:500])  # Print the first 500 characters to verify the content"
      ],
      "metadata": {
        "colab": {
          "base_uri": "https://localhost:8080/"
        },
        "id": "So3YDEuNKI6m",
        "outputId": "daf04d80-1a85-457e-d671-0612b5b5d374"
      },
      "execution_count": 86,
      "outputs": [
        {
          "output_type": "stream",
          "name": "stdout",
          "text": [
            "Content of train_twi_dataset.txt:\n",
            " a Dɛn na wɔhyɛɛ ho nkɔm wɔ Petro ?\n",
            "Nea ɔyɛe yi nyinaa mfaso bi aba so anaa ?\n",
            "Eyi mu no Mose srɛe sɛ Yehowa NW san w’akyi ɛno da bɛn ara ? Na ma wo nkoa ade nyɛ wo mmɔbɔ .\n",
            "Anokwa Yosef atwa sa pa ama nokware Kristofo nyinaa !\n",
            "Sɛ Kristoni biara kɔ mmirika boro nea mmara ma kwan sɛ ɔkɔ so a ɛnde na odi fɔ sɛ wamfa Kaesare de amma Kaesare . ’\n",
            "Ɛwom sɛ wɔnsraa nguan foforo no mufo no de nanso wonya honhom kronkron no wɔ kwan foforo so .\n",
            "Daniel yɛ mum nanso na ɔnnim mum kasa no papa .\n",
            "Ayaresa\n",
            "Ansa na \n",
            "Content of test_twi_dataset.txt:\n",
            "Onyankopɔn Asɛm Bible no ho anisɔ ne emu nokware nimdeɛ ne ade titiriw nti a wɔyɛ saa .\n",
            "Ɔkwan bɛn na wɔfaa so kuraa wɔn anigye mu ?\n",
            "Nokwarem no nhoma asekyerɛ yɛ nnwuma pii a ɛboa ma yetumi ka asɛmpa no yiye no mu biako pɛ .\n",
            "Wɔ ne mfe no mu no dɛn na ebinom a wɔyɛɛ wɔn ade te sɛ nea wɔada no adi wɔ Yesaia no yɛe ?\n",
            "Na afoforo renyɛ wɔn a wɔsɛ na na ɛsɛ sɛ asomafo no poroporow wɔn nan ase tutuw di adanse tia ’ nnipa a wɔte saa no .\n",
            "Sɛ mokɔ a hena na obebua yɛn nsɛmmisa no ? \n",
            "Dɛn ne asu a wɔbɔ ma a\n"
          ]
        }
      ]
    },
    {
      "cell_type": "code",
      "source": [
        "# Count the number of lines in the train and test datasets\n",
        "num_train_lines = len(train_df)\n",
        "num_test_lines = len(test_df)"
      ],
      "metadata": {
        "id": "aemx5s_MKO7P"
      },
      "execution_count": 87,
      "outputs": []
    },
    {
      "cell_type": "code",
      "source": [
        "print(f\"The train dataset contains {num_train_lines} lines.\")\n",
        "print(f\"The test dataset contains {num_test_lines} lines.\")"
      ],
      "metadata": {
        "colab": {
          "base_uri": "https://localhost:8080/"
        },
        "id": "kTTc4DdbKUaV",
        "outputId": "90c81241-f3b7-4433-a538-bae48e00fef0"
      },
      "execution_count": 88,
      "outputs": [
        {
          "output_type": "stream",
          "name": "stdout",
          "text": [
            "The train dataset contains 53265 lines.\n",
            "The test dataset contains 5919 lines.\n"
          ]
        }
      ]
    },
    {
      "cell_type": "code",
      "source": [
        "train_sentences = train_df['Twi'].tolist()\n",
        "test_sentences = test_df['Twi'].tolist()"
      ],
      "metadata": {
        "id": "fbA127E1LBRI"
      },
      "execution_count": 90,
      "outputs": []
    },
    {
      "cell_type": "code",
      "execution_count": 91,
      "metadata": {
        "id": "qNX5YVvA0ggc"
      },
      "outputs": [],
      "source": [
        "# Tokenize and mask the data\n",
        "train_encodings, train_labels = tokenize_and_mask(train_sentences, tokenizer)\n",
        "test_encodings, test_labels = tokenize_and_mask(test_sentences, tokenizer)"
      ]
    },
    {
      "cell_type": "code",
      "execution_count": 92,
      "metadata": {
        "colab": {
          "base_uri": "https://localhost:8080/"
        },
        "id": "SF1Zau0m0h0V",
        "outputId": "ff623c54-e1ba-4340-8143-d5d8f27e8f8d"
      },
      "outputs": [
        {
          "output_type": "stream",
          "name": "stdout",
          "text": [
            "Train Encodings Shape: torch.Size([53265, 128])\n",
            "Train Labels Shape: torch.Size([53265, 128])\n",
            "Test Encodings Shape: torch.Size([5919, 128])\n",
            "Test Labels Shape: torch.Size([5919, 128])\n"
          ]
        }
      ],
      "source": [
        "# Debugging: Print shapes of encodings and labels\n",
        "print(\"Train Encodings Shape:\", train_encodings['input_ids'].shape)\n",
        "print(\"Train Labels Shape:\", train_labels.shape)\n",
        "print(\"Test Encodings Shape:\", test_encodings['input_ids'].shape)\n",
        "print(\"Test Labels Shape:\", test_labels.shape)"
      ]
    },
    {
      "cell_type": "code",
      "execution_count": 93,
      "metadata": {
        "id": "vUkAEcKG0jN7"
      },
      "outputs": [],
      "source": [
        "class TwiDataset(torch.utils.data.Dataset):\n",
        "    def __init__(self, encodings, labels):\n",
        "        self.encodings = {key: val.cpu() for key, val in encodings.items()}  # Ensure encodings are on CPU\n",
        "        self.labels = labels.cpu()  # Ensure labels are on CPU\n",
        "\n",
        "    def __getitem__(self, idx):\n",
        "        item = {key: val[idx] for key, val in self.encodings.items()}\n",
        "        item['labels'] = self.labels[idx]\n",
        "        return item\n",
        "\n",
        "    def __len__(self):\n",
        "        return len(self.encodings['input_ids'])"
      ]
    },
    {
      "cell_type": "code",
      "execution_count": 94,
      "metadata": {
        "id": "nHMfRCXF0k7k"
      },
      "outputs": [],
      "source": [
        "train_dataset = TwiDataset(train_encodings, train_labels)\n",
        "test_dataset = TwiDataset(test_encodings, test_labels)"
      ]
    },
    {
      "cell_type": "code",
      "execution_count": 95,
      "metadata": {
        "id": "qB7A0IDF0pYV"
      },
      "outputs": [],
      "source": [
        "# Verify no NaNs in datasets\n",
        "assert not np.any(np.isnan(train_dataset.encodings['input_ids'].numpy())), \"Training data contains NaNs\"\n",
        "assert not np.any(np.isnan(test_dataset.encodings['input_ids'].numpy())), \"Validation data contains NaNs\""
      ]
    },
    {
      "cell_type": "code",
      "execution_count": 96,
      "metadata": {
        "colab": {
          "base_uri": "https://localhost:8080/"
        },
        "id": "bHEOrABI60cu",
        "outputId": "7ea69a1c-fc7b-4504-fb49-e4e60f83fa49"
      },
      "outputs": [
        {
          "output_type": "stream",
          "name": "stderr",
          "text": [
            "/usr/local/lib/python3.10/dist-packages/transformers/training_args.py:1494: FutureWarning: `evaluation_strategy` is deprecated and will be removed in version 4.46 of 🤗 Transformers. Use `eval_strategy` instead\n",
            "  warnings.warn(\n"
          ]
        }
      ],
      "source": [
        "# Define training arguments\n",
        "training_args = TrainingArguments(\n",
        "    output_dir='./results',\n",
        "    evaluation_strategy=\"epoch\",\n",
        "    learning_rate=1e-5,  # Further reduced learning rate\n",
        "    per_device_train_batch_size=16,  # Smaller batch size\n",
        "    per_device_eval_batch_size=16,  # Smaller batch size\n",
        "    num_train_epochs=10,  # Increased number of epochs\n",
        "    weight_decay=0.1,  # Increased weight decay for better regularization\n",
        "    logging_dir='./logs',\n",
        "    logging_steps=10,\n",
        "    gradient_accumulation_steps=1,  # Use gradient accumulation to increase effective batch size\n",
        "    max_grad_norm=1.0,\n",
        "    load_best_model_at_end=True,\n",
        "    save_strategy=\"epoch\",\n",
        "    save_total_limit=3,\n",
        ")"
      ]
    },
    {
      "cell_type": "code",
      "execution_count": 97,
      "metadata": {
        "id": "HJr-fKVlGy08"
      },
      "outputs": [],
      "source": [
        "# Initializing the optimizer for training step\n",
        "optimizer = torch.optim.AdamW(model.parameters(), lr=training_args.learning_rate)"
      ]
    },
    {
      "cell_type": "code",
      "execution_count": 98,
      "metadata": {
        "id": "urM3Z8TOPbyv"
      },
      "outputs": [],
      "source": [
        "# Learning rate scheduler\n",
        "lr_scheduler = ReduceLROnPlateau(optimizer, mode='min', factor=0.1, patience=2, verbose=True)"
      ]
    },
    {
      "cell_type": "code",
      "execution_count": 99,
      "metadata": {
        "id": "mgPq8d2GPzu_"
      },
      "outputs": [],
      "source": [
        "# Extend the Trainer to store loss values\n",
        "class CustomTrainer(Trainer):\n",
        "    def __init__(self, *args, **kwargs):\n",
        "        super().__init__(*args, **kwargs)\n",
        "        self.lr_scheduler = kwargs.pop(\"lr_scheduler\", None)\n",
        "        self.train_losses = []\n",
        "        self.eval_losses = []\n",
        "\n",
        "    def evaluate(self, eval_dataset=None, ignore_keys=None, metric_key_prefix=\"eval\"):\n",
        "        metrics = super().evaluate(eval_dataset, ignore_keys, metric_key_prefix)\n",
        "        if self.lr_scheduler:\n",
        "            self.lr_scheduler.step(metrics[\"eval_loss\"])\n",
        "        self.eval_losses.append(metrics[\"eval_loss\"])\n",
        "        return metrics\n",
        "\n",
        "    def training_step(self, *args):\n",
        "        loss = super().training_step(*args)\n",
        "        self.train_losses.append(loss.item())\n",
        "        return loss"
      ]
    },
    {
      "cell_type": "code",
      "execution_count": 100,
      "metadata": {
        "id": "24gmG_yjOV8w"
      },
      "outputs": [],
      "source": [
        "early_stopping_callback = EarlyStoppingCallback(early_stopping_patience=3)"
      ]
    },
    {
      "cell_type": "code",
      "execution_count": 101,
      "metadata": {
        "id": "GoylfM7W0yrT"
      },
      "outputs": [],
      "source": [
        "trainer = CustomTrainer(\n",
        "    model=model,\n",
        "    args=training_args,\n",
        "    train_dataset=train_dataset,\n",
        "    eval_dataset=test_dataset,\n",
        "    callbacks=[early_stopping_callback],  # Pass the early stopping callback here\n",
        "    optimizers=(optimizer, lr_scheduler)\n",
        ")"
      ]
    },
    {
      "cell_type": "code",
      "execution_count": 102,
      "metadata": {
        "colab": {
          "base_uri": "https://localhost:8080/"
        },
        "id": "FvMAMaV705ZV",
        "outputId": "9d0abb7e-e277-4fa7-b6ed-499c5a324180"
      },
      "outputs": [
        {
          "output_type": "stream",
          "name": "stdout",
          "text": [
            "Training Arguments: TrainingArguments(\n",
            "_n_gpu=1,\n",
            "accelerator_config={'split_batches': False, 'dispatch_batches': None, 'even_batches': True, 'use_seedable_sampler': True, 'non_blocking': False, 'gradient_accumulation_kwargs': None, 'use_configured_state': False},\n",
            "adafactor=False,\n",
            "adam_beta1=0.9,\n",
            "adam_beta2=0.999,\n",
            "adam_epsilon=1e-08,\n",
            "auto_find_batch_size=False,\n",
            "batch_eval_metrics=False,\n",
            "bf16=False,\n",
            "bf16_full_eval=False,\n",
            "data_seed=None,\n",
            "dataloader_drop_last=False,\n",
            "dataloader_num_workers=0,\n",
            "dataloader_persistent_workers=False,\n",
            "dataloader_pin_memory=True,\n",
            "dataloader_prefetch_factor=None,\n",
            "ddp_backend=None,\n",
            "ddp_broadcast_buffers=None,\n",
            "ddp_bucket_cap_mb=None,\n",
            "ddp_find_unused_parameters=None,\n",
            "ddp_timeout=1800,\n",
            "debug=[],\n",
            "deepspeed=None,\n",
            "disable_tqdm=False,\n",
            "dispatch_batches=None,\n",
            "do_eval=True,\n",
            "do_predict=False,\n",
            "do_train=False,\n",
            "eval_accumulation_steps=None,\n",
            "eval_delay=0,\n",
            "eval_do_concat_batches=True,\n",
            "eval_on_start=False,\n",
            "eval_steps=None,\n",
            "eval_strategy=epoch,\n",
            "evaluation_strategy=epoch,\n",
            "fp16=False,\n",
            "fp16_backend=auto,\n",
            "fp16_full_eval=False,\n",
            "fp16_opt_level=O1,\n",
            "fsdp=[],\n",
            "fsdp_config={'min_num_params': 0, 'xla': False, 'xla_fsdp_v2': False, 'xla_fsdp_grad_ckpt': False},\n",
            "fsdp_min_num_params=0,\n",
            "fsdp_transformer_layer_cls_to_wrap=None,\n",
            "full_determinism=False,\n",
            "gradient_accumulation_steps=1,\n",
            "gradient_checkpointing=False,\n",
            "gradient_checkpointing_kwargs=None,\n",
            "greater_is_better=False,\n",
            "group_by_length=False,\n",
            "half_precision_backend=auto,\n",
            "hub_always_push=False,\n",
            "hub_model_id=None,\n",
            "hub_private_repo=False,\n",
            "hub_strategy=every_save,\n",
            "hub_token=<HUB_TOKEN>,\n",
            "ignore_data_skip=False,\n",
            "include_inputs_for_metrics=False,\n",
            "include_num_input_tokens_seen=False,\n",
            "include_tokens_per_second=False,\n",
            "jit_mode_eval=False,\n",
            "label_names=None,\n",
            "label_smoothing_factor=0.0,\n",
            "learning_rate=1e-05,\n",
            "length_column_name=length,\n",
            "load_best_model_at_end=True,\n",
            "local_rank=0,\n",
            "log_level=passive,\n",
            "log_level_replica=warning,\n",
            "log_on_each_node=True,\n",
            "logging_dir=./logs,\n",
            "logging_first_step=False,\n",
            "logging_nan_inf_filter=True,\n",
            "logging_steps=10,\n",
            "logging_strategy=steps,\n",
            "lr_scheduler_kwargs={},\n",
            "lr_scheduler_type=linear,\n",
            "max_grad_norm=1.0,\n",
            "max_steps=-1,\n",
            "metric_for_best_model=loss,\n",
            "mp_parameters=,\n",
            "neftune_noise_alpha=None,\n",
            "no_cuda=False,\n",
            "num_train_epochs=10,\n",
            "optim=adamw_torch,\n",
            "optim_args=None,\n",
            "optim_target_modules=None,\n",
            "output_dir=./results,\n",
            "overwrite_output_dir=False,\n",
            "past_index=-1,\n",
            "per_device_eval_batch_size=16,\n",
            "per_device_train_batch_size=16,\n",
            "prediction_loss_only=False,\n",
            "push_to_hub=False,\n",
            "push_to_hub_model_id=None,\n",
            "push_to_hub_organization=None,\n",
            "push_to_hub_token=<PUSH_TO_HUB_TOKEN>,\n",
            "ray_scope=last,\n",
            "remove_unused_columns=True,\n",
            "report_to=['tensorboard'],\n",
            "restore_callback_states_from_checkpoint=False,\n",
            "resume_from_checkpoint=None,\n",
            "run_name=./results,\n",
            "save_on_each_node=False,\n",
            "save_only_model=False,\n",
            "save_safetensors=True,\n",
            "save_steps=500,\n",
            "save_strategy=epoch,\n",
            "save_total_limit=3,\n",
            "seed=42,\n",
            "skip_memory_metrics=True,\n",
            "split_batches=None,\n",
            "tf32=None,\n",
            "torch_compile=False,\n",
            "torch_compile_backend=None,\n",
            "torch_compile_mode=None,\n",
            "torchdynamo=None,\n",
            "tpu_metrics_debug=False,\n",
            "tpu_num_cores=None,\n",
            "use_cpu=False,\n",
            "use_ipex=False,\n",
            "use_legacy_prediction_loop=False,\n",
            "use_mps_device=False,\n",
            "warmup_ratio=0.0,\n",
            "warmup_steps=0,\n",
            "weight_decay=0.1,\n",
            ")\n",
            "Number of training samples: 53265\n",
            "Number of validation samples: 5919\n"
          ]
        }
      ],
      "source": [
        "# Debugging: Print training arguments and dataset sizes\n",
        "print(\"Training Arguments:\", training_args)\n",
        "print(\"Number of training samples:\", len(train_dataset))\n",
        "print(\"Number of validation samples:\", len(test_dataset))"
      ]
    },
    {
      "cell_type": "code",
      "execution_count": 103,
      "metadata": {
        "colab": {
          "base_uri": "https://localhost:8080/",
          "height": 373
        },
        "id": "yqbuSqGg07X_",
        "outputId": "bc0535ac-ba5e-4d40-ba7a-bd9722c98e68"
      },
      "outputs": [
        {
          "output_type": "display_data",
          "data": {
            "text/plain": [
              "<IPython.core.display.HTML object>"
            ],
            "text/html": [
              "\n",
              "    <div>\n",
              "      \n",
              "      <progress value='19980' max='33300' style='width:300px; height:20px; vertical-align: middle;'></progress>\n",
              "      [19980/33300 55:18 < 36:52, 6.02 it/s, Epoch 6/10]\n",
              "    </div>\n",
              "    <table border=\"1\" class=\"dataframe\">\n",
              "  <thead>\n",
              " <tr style=\"text-align: left;\">\n",
              "      <th>Epoch</th>\n",
              "      <th>Training Loss</th>\n",
              "      <th>Validation Loss</th>\n",
              "    </tr>\n",
              "  </thead>\n",
              "  <tbody>\n",
              "    <tr>\n",
              "      <td>1</td>\n",
              "      <td>2.764500</td>\n",
              "      <td>2.726852</td>\n",
              "    </tr>\n",
              "    <tr>\n",
              "      <td>2</td>\n",
              "      <td>2.483800</td>\n",
              "      <td>2.654101</td>\n",
              "    </tr>\n",
              "    <tr>\n",
              "      <td>3</td>\n",
              "      <td>2.484600</td>\n",
              "      <td>2.637644</td>\n",
              "    </tr>\n",
              "    <tr>\n",
              "      <td>4</td>\n",
              "      <td>1.837500</td>\n",
              "      <td>2.641052</td>\n",
              "    </tr>\n",
              "    <tr>\n",
              "      <td>5</td>\n",
              "      <td>1.845300</td>\n",
              "      <td>2.650404</td>\n",
              "    </tr>\n",
              "    <tr>\n",
              "      <td>6</td>\n",
              "      <td>1.746500</td>\n",
              "      <td>2.676069</td>\n",
              "    </tr>\n",
              "  </tbody>\n",
              "</table><p>"
            ]
          },
          "metadata": {}
        },
        {
          "output_type": "stream",
          "name": "stderr",
          "text": [
            "There were missing keys in the checkpoint model loaded: ['lm_head.decoder.weight', 'lm_head.decoder.bias'].\n"
          ]
        },
        {
          "output_type": "execute_result",
          "data": {
            "text/plain": [
              "TrainOutput(global_step=19980, training_loss=2.2981976468045193, metrics={'train_runtime': 3320.0158, 'train_samples_per_second': 160.436, 'train_steps_per_second': 10.03, 'total_flos': 1.059657663946752e+16, 'train_loss': 2.2981976468045193, 'epoch': 6.0})"
            ]
          },
          "metadata": {},
          "execution_count": 103
        }
      ],
      "source": [
        "trainer.train()"
      ]
    },
    {
      "cell_type": "code",
      "execution_count": 124,
      "metadata": {
        "id": "sNuiGZfuzrDR",
        "colab": {
          "base_uri": "https://localhost:8080/",
          "height": 378
        },
        "outputId": "6f968e4d-6b79-45e3-a9df-b7c43de1f532"
      },
      "outputs": [
        {
          "output_type": "display_data",
          "data": {
            "text/plain": [
              "<Figure size 1000x500 with 1 Axes>"
            ],
            "image/png": "[encoded data removed]"
          },
          "metadata": {}
        }
      ],
      "source": [
        "# Plot the training and validation loss\n",
        "plt.figure(figsize=(10, 5))\n",
        "plt.plot(trainer.train_losses, label='Training Loss')\n",
        "# plt.plot(range(len(trainer.eval_losses)), trainer.eval_losses, label='Validation Loss')\n",
        "plt.plot(trainer.eval_losses, label='Validation Loss')\n",
        "plt.xlabel('Epoch')\n",
        "plt.ylabel('Loss')\n",
        "plt.legend()\n",
        "plt.title('Training and Validation Loss')\n",
        "# Saving the plot to a file\n",
        "plt.savefig('training_validation_loss.png')"
      ]
    },
    {
      "cell_type": "code",
      "execution_count": 105,
      "metadata": {
        "id": "pXkJFfBa9A0x"
      },
      "outputs": [],
      "source": [
        "import math"
      ]
    },
    {
      "cell_type": "code",
      "execution_count": 106,
      "metadata": {
        "id": "vZ3cZ-zB8XDI",
        "colab": {
          "base_uri": "https://localhost:8080/",
          "height": 55
        },
        "outputId": "adcec383-a4f5-474f-98e1-d9c51d5819d1"
      },
      "outputs": [
        {
          "output_type": "display_data",
          "data": {
            "text/plain": [
              "<IPython.core.display.HTML object>"
            ],
            "text/html": [
              "\n",
              "    <div>\n",
              "      \n",
              "      <progress value='370' max='370' style='width:300px; height:20px; vertical-align: middle;'></progress>\n",
              "      [370/370 00:18]\n",
              "    </div>\n",
              "    "
            ]
          },
          "metadata": {}
        },
        {
          "output_type": "stream",
          "name": "stdout",
          "text": [
            "Perplexity: 13.98\n"
          ]
        }
      ],
      "source": [
        "eval_results = trainer.evaluate()\n",
        "print(f\"Perplexity: {math.exp(eval_results['eval_loss']):.2f}\")"
      ]
    },
    {
      "cell_type": "code",
      "execution_count": 107,
      "metadata": {
        "id": "bcopn3YD8aWd",
        "colab": {
          "base_uri": "https://localhost:8080/"
        },
        "outputId": "c6fca21c-31aa-422a-8b6d-809989faa1b1"
      },
      "outputs": [
        {
          "output_type": "execute_result",
          "data": {
            "text/plain": [
              "('./fine-tuned-model/tokenizer_config.json',\n",
              " './fine-tuned-model/special_tokens_map.json',\n",
              " './fine-tuned-model/vocab.json',\n",
              " './fine-tuned-model/merges.txt',\n",
              " './fine-tuned-model/added_tokens.json',\n",
              " './fine-tuned-model/tokenizer.json')"
            ]
          },
          "metadata": {},
          "execution_count": 107
        }
      ],
      "source": [
        "model.save_pretrained('./fine-tuned-model')\n",
        "tokenizer.save_pretrained('./fine-tuned-model')"
      ]
    },
    {
      "cell_type": "code",
      "execution_count": 108,
      "metadata": {
        "id": "KBRZNpc48gyC"
      },
      "outputs": [],
      "source": [
        "# Load the fine-tuned model and tokenizer\n",
        "tokenizer = AutoTokenizer.from_pretrained('./fine-tuned-model')\n",
        "model = AutoModelForMaskedLM.from_pretrained('./fine-tuned-model')"
      ]
    },
    {
      "cell_type": "code",
      "source": [
        "def load_model_and_tokenizer(model_dir='./fine-tuned-model'):\n",
        "    if os.path.exists(model_dir):\n",
        "        model = AutoModelForMaskedLM.from_pretrained(model_dir)\n",
        "        tokenizer = AutoTokenizer.from_pretrained(model_dir)\n",
        "        print(f\"Loaded fine-tuned model from {model_dir}\")\n",
        "    else:\n",
        "        model = AutoModelForMaskedLM.from_pretrained('Ghana-NLP/robako-base-asante-twi-uncased')\n",
        "        tokenizer = AutoTokenizer.from_pretrained('Ghana-NLP/robako-base-asante-twi-uncased')\n",
        "        print(\"Loaded base model and tokenizer\")\n",
        "    return model, tokenizer"
      ],
      "metadata": {
        "id": "N9MMxZo2D7Da"
      },
      "execution_count": 110,
      "outputs": []
    },
    {
      "cell_type": "code",
      "source": [
        "# Load the model and tokenizer\n",
        "model, tokenizer = load_model_and_tokenizer()"
      ],
      "metadata": {
        "colab": {
          "base_uri": "https://localhost:8080/"
        },
        "id": "hCzExf9QC5DW",
        "outputId": "d8c8ef0a-ff42-4ea3-a2eb-e923bbb5a042"
      },
      "execution_count": 111,
      "outputs": [
        {
          "output_type": "stream",
          "name": "stdout",
          "text": [
            "Loaded fine-tuned model from ./fine-tuned-model\n"
          ]
        }
      ]
    },
    {
      "cell_type": "code",
      "execution_count": 116,
      "metadata": {
        "id": "GAmchQtuPlRT",
        "colab": {
          "base_uri": "https://localhost:8080/"
        },
        "outputId": "71dce5c5-4a87-4907-b9c8-c1f54658bd40"
      },
      "outputs": [
        {
          "output_type": "stream",
          "name": "stderr",
          "text": [
            "[nltk_data] Downloading package punkt to /root/nltk_data...\n",
            "[nltk_data]   Unzipping tokenizers/punkt.zip.\n"
          ]
        },
        {
          "output_type": "execute_result",
          "data": {
            "text/plain": [
              "True"
            ]
          },
          "metadata": {},
          "execution_count": 116
        }
      ],
      "source": [
        "nltk.download('punkt')"
      ]
    },
    {
      "cell_type": "code",
      "execution_count": 117,
      "metadata": {
        "id": "vmkP79KfrVvg"
      },
      "outputs": [],
      "source": [
        "def preprocess_sentence(sentence):\n",
        "    sentence = sentence.strip()\n",
        "    sentence = sentence.replace('3', 'ɛ').replace('3', 'Ɛ').replace('>', 'ɔ')\n",
        "    return sentence"
      ]
    },
    {
      "cell_type": "code",
      "execution_count": 118,
      "metadata": {
        "id": "O9f0XhIr9ej4"
      },
      "outputs": [],
      "source": [
        "def predict_masked_word(masked_sentence, tokenizer, model, device='cpu'):\n",
        "    mask_token = tokenizer.mask_token\n",
        "    print(f\"Mask token: {mask_token}\")\n",
        "    print(f\"Input sentence: {masked_sentence}\")\n",
        "\n",
        "    # Tokenize the input sentence and move to the appropriate device\n",
        "    inputs = tokenizer(masked_sentence, return_tensors='pt')\n",
        "    print(f\"Tokenized inputs: {inputs}\")\n",
        "\n",
        "    mask_token_id = tokenizer.mask_token_id\n",
        "    print(f\"Mask token ID: {mask_token_id}\")\n",
        "\n",
        "    mask_token_index = torch.where(inputs[\"input_ids\"] == mask_token_id)[1]\n",
        "    print(f\"Mask token indices: {mask_token_index}\")\n",
        "\n",
        "    if mask_token_index.size(0) == 0:\n",
        "        raise ValueError(f\"The input sentence must contain the {mask_token} token.\")\n",
        "\n",
        "    # Predict the masked token\n",
        "    inputs = inputs.to(device)\n",
        "    model.to(device)\n",
        "    model.eval()\n",
        "    with torch.no_grad():\n",
        "        outputs = model(**inputs)\n",
        "\n",
        "    logits = outputs.logits\n",
        "    mask_token_logits = logits[0, mask_token_index, :]\n",
        "    top_5_tokens = torch.topk(mask_token_logits, 5, dim=1).indices[0].tolist()\n",
        "\n",
        "    predicted_words = [tokenizer.decode([token]).strip() for token in top_5_tokens]\n",
        "    return predicted_words"
      ]
    },
    {
      "cell_type": "code",
      "execution_count": 119,
      "metadata": {
        "id": "cG3IA-A1_UrK",
        "colab": {
          "base_uri": "https://localhost:8080/"
        },
        "outputId": "7f2d65e9-a05d-4c94-afb1-e0ec02c82608"
      },
      "outputs": [
        {
          "output_type": "stream",
          "name": "stdout",
          "text": [
            "Loaded fine-tuned model from ./fine-tuned-model\n",
            "Mask token: <mask>\n",
            "Input sentence: Me kɔɔ <mask> anɔpa yi.\n",
            "Tokenized inputs: {'input_ids': tensor([[   0,  956,  769,    4, 2368,  363,   18,    2]]), 'attention_mask': tensor([[1, 1, 1, 1, 1, 1, 1, 1]])}\n",
            "Mask token ID: 4\n",
            "Mask token indices: tensor([3])\n",
            "Predicted words: ['asɛnka', 'saa', 'nhyiam', 'hɔ', 'so']\n"
          ]
        }
      ],
      "source": [
        "model, tokenizer = load_model_and_tokenizer()  # Ensure model and tokenizer are loaded\n",
        "masked_sentence = \"Me kɔɔ <mask> anɔpa yi.\"\n",
        "device = torch.device('cuda' if torch.cuda.is_available() else 'cpu')\n",
        "predicted_words = predict_masked_word(masked_sentence, tokenizer, model, device)\n",
        "print(f\"Predicted words: {predicted_words}\")"
      ]
    },
    {
      "cell_type": "code",
      "execution_count": 120,
      "metadata": {
        "id": "4ipznPOp9gTc"
      },
      "outputs": [],
      "source": [
        "def check_sentence(sentence, tokenizer, model):\n",
        "    sentence = preprocess_sentence(sentence)\n",
        "    words = word_tokenize(sentence)\n",
        "    corrected_words = []\n",
        "\n",
        "    for word in words:\n",
        "        if word in string.punctuation or word.isspace():\n",
        "            corrected_words.append((word, None))\n",
        "        elif word.isalpha():  # Check if the token is a word\n",
        "            masked_sentence = sentence.replace(word, tokenizer.mask_token, 1)\n",
        "            predicted_word = predict_masked_word(masked_sentence, tokenizer, model)\n",
        "\n",
        "            if predicted_word and predicted_word != word:\n",
        "                corrected_words.append((word, predicted_word))\n",
        "            else:\n",
        "                corrected_words.append((word, None))\n",
        "        else:\n",
        "            corrected_words.append((word, None))\n",
        "\n",
        "    return corrected_words"
      ]
    },
    {
      "cell_type": "code",
      "execution_count": 121,
      "metadata": {
        "id": "jn_AFjuj9h86"
      },
      "outputs": [],
      "source": [
        "def get_bot_response(user_input):\n",
        "    corrected_words = check_sentence(user_input, tokenizer, model)\n",
        "\n",
        "    if any(correction for _, correction in corrected_words):\n",
        "        response = \"I think there might be some improvements we can make to your sentence. Let's look at it together:\\n\\n\"\n",
        "        response += \"<ul>\"\n",
        "        for original, correction in corrected_words:\n",
        "            if correction:\n",
        "                response += f\"<li>'<strong>{original}</strong>' might be better as '<strong>{correction}</strong>'.</li>\"\n",
        "            elif original not in string.punctuation and not original.isspace():\n",
        "                response += f\"<li>'<strong>{original}</strong>' looks good!</li>\"\n",
        "        response += \"</ul>\"\n",
        "        response += \"\\n\\nCan you try writing the sentence again with these suggestions?\"\n",
        "    else:\n",
        "        response = \"Great job! Your sentence looks perfect to me. Would you like to try another one?\"\n",
        "\n",
        "    return response"
      ]
    },
    {
      "cell_type": "markdown",
      "source": [
        "# Downloading Fine-Trained Model\n",
        "* This section was dedicated to getting the fine-tuned model extracted from the Colab environment"
      ],
      "metadata": {
        "id": "y77f0_YGHEAY"
      }
    },
    {
      "cell_type": "code",
      "source": [
        "print(os.getcwd())"
      ],
      "metadata": {
        "colab": {
          "base_uri": "https://localhost:8080/"
        },
        "id": "zcYORqkUHDSI",
        "outputId": "74c97f34-8260-40d8-c28f-ef548d61ff3e"
      },
      "execution_count": 112,
      "outputs": [
        {
          "output_type": "stream",
          "name": "stdout",
          "text": [
            "/content\n"
          ]
        }
      ]
    },
    {
      "cell_type": "code",
      "source": [
        "!ls -l ./fine-tuned-model"
      ],
      "metadata": {
        "colab": {
          "base_uri": "https://localhost:8080/"
        },
        "id": "qLR2pDg6HR8k",
        "outputId": "16c46f21-096e-419e-d7a2-c0ecc2922454"
      },
      "execution_count": 113,
      "outputs": [
        {
          "output_type": "stream",
          "name": "stdout",
          "text": [
            "total 329836\n",
            "-rw-r--r-- 1 root root       734 Aug  5 11:50 config.json\n",
            "-rw-r--r-- 1 root root    526963 Aug  5 11:50 merges.txt\n",
            "-rw-r--r-- 1 root root 334030264 Aug  5 11:50 model.safetensors\n",
            "-rw-r--r-- 1 root root       958 Aug  5 11:50 special_tokens_map.json\n",
            "-rw-r--r-- 1 root root      1239 Aug  5 11:50 tokenizer_config.json\n",
            "-rw-r--r-- 1 root root   2291377 Aug  5 11:50 tokenizer.json\n",
            "-rw-r--r-- 1 root root    880805 Aug  5 11:50 vocab.json\n"
          ]
        }
      ]
    },
    {
      "cell_type": "code",
      "source": [
        "import shutil\n",
        "from google.colab import files"
      ],
      "metadata": {
        "id": "QDHa-DyvHUfu"
      },
      "execution_count": 114,
      "outputs": []
    },
    {
      "cell_type": "code",
      "source": [
        "shutil.make_archive('fine-tuned-model', 'zip', './fine-tuned-model')"
      ],
      "metadata": {
        "colab": {
          "base_uri": "https://localhost:8080/",
          "height": 35
        },
        "id": "jCHLwqbPHWYq",
        "outputId": "5feac42b-ec4e-4396-ab3f-b51ca76863b1"
      },
      "execution_count": 122,
      "outputs": [
        {
          "output_type": "execute_result",
          "data": {
            "text/plain": [
              "'/content/fine-tuned-model.zip'"
            ],
            "application/vnd.google.colaboratory.intrinsic+json": {
              "type": "string"
            }
          },
          "metadata": {},
          "execution_count": 122
        }
      ]
    },
    {
      "cell_type": "code",
      "source": [
        "files.download('fine-tuned-model.zip')"
      ],
      "metadata": {
        "colab": {
          "base_uri": "https://localhost:8080/",
          "height": 17
        },
        "id": "y5infxICHYRx",
        "outputId": "3e3982bb-d5a6-414e-e460-06046b13bf3f"
      },
      "execution_count": 123,
      "outputs": [
        {
          "output_type": "display_data",
          "data": {
            "text/plain": [
              "<IPython.core.display.Javascript object>"
            ],
            "application/javascript": [
              "\n",
              "    async function download(id, filename, size) {\n",
              "      if (!google.colab.kernel.accessAllowed) {\n",
              "        return;\n",
              "      }\n",
              "      const div = document.createElement('div');\n",
              "      const label = document.createElement('label');\n",
              "      label.textContent = `Downloading \"${filename}\": `;\n",
              "      div.appendChild(label);\n",
              "      const progress = document.createElement('progress');\n",
              "      progress.max = size;\n",
              "      div.appendChild(progress);\n",
              "      document.body.appendChild(div);\n",
              "\n",
              "      const buffers = [];\n",
              "      let downloaded = 0;\n",
              "\n",
              "      const channel = await google.colab.kernel.comms.open(id);\n",
              "      // Send a message to notify the kernel that we're ready.\n",
              "      channel.send({})\n",
              "\n",
              "      for await (const message of channel.messages) {\n",
              "        // Send a message to notify the kernel that we're ready.\n",
              "        channel.send({})\n",
              "        if (message.buffers) {\n",
              "          for (const buffer of message.buffers) {\n",
              "            buffers.push(buffer);\n",
              "            downloaded += buffer.byteLength;\n",
              "            progress.value = downloaded;\n",
              "          }\n",
              "        }\n",
              "      }\n",
              "      const blob = new Blob(buffers, {type: 'application/binary'});\n",
              "      const a = document.createElement('a');\n",
              "      a.href = window.URL.createObjectURL(blob);\n",
              "      a.download = filename;\n",
              "      div.appendChild(a);\n",
              "      a.click();\n",
              "      div.remove();\n",
              "    }\n",
              "  "
            ]
          },
          "metadata": {}
        },
        {
          "output_type": "display_data",
          "data": {
            "text/plain": [
              "<IPython.core.display.Javascript object>"
            ],
            "application/javascript": [
              "download(\"download_4c3c7b2c-5413-4ec1-871e-e319439dccba\", \"fine-tuned-model.zip\", 311679668)"
            ]
          },
          "metadata": {}
        }
      ]
    },
    {
      "cell_type": "markdown",
      "metadata": {
        "id": "YABMdWkTgZzK"
      },
      "source": [
        "# Streamlit Integration\n",
        "Because of how we want children to directly interact with the program, we decided to lean into making it a \"chatbot\" of sorts which would step through the sentences and effectively be a word suggester"
      ]
    },
    {
      "cell_type": "code",
      "execution_count": null,
      "metadata": {
        "id": "0KqUVbzzRy-K"
      },
      "outputs": [],
      "source": [
        "st.title(\"Kasa Twi Nu! - A Twi Learning Chatbot\")\n",
        "st.write(\"Hello! I'm here to help you write out Twi sentences better. Type a sentence, and I'll help you improve it.\")"
      ]
    },
    {
      "cell_type": "code",
      "execution_count": null,
      "metadata": {
        "id": "wvSKJYdfok-Y"
      },
      "outputs": [],
      "source": [
        "# Initialize chat history\n",
        "if 'messages' not in st.session_state:\n",
        "    st.session_state.messages = []"
      ]
    },
    {
      "cell_type": "code",
      "execution_count": null,
      "metadata": {
        "id": "mjcVuGVg-jvo"
      },
      "outputs": [],
      "source": [
        "# Display chat messages from history on app rerun\n",
        "for message in st.session_state.messages:\n",
        "    with st.chat_message(message[\"role\"]):\n",
        "        st.markdown(message[\"content\"])"
      ]
    },
    {
      "cell_type": "code",
      "execution_count": null,
      "metadata": {
        "id": "kv5kUvsG-k7R"
      },
      "outputs": [],
      "source": [
        "# React to user input\n",
        "if prompt := st.chat_input(\"What's your sentence?\"):\n",
        "    # Display user message in chat message container\n",
        "    st.chat_message(\"user\").markdown(prompt)\n",
        "    # Add user message to chat history\n",
        "    st.session_state.messages.append({\"role\": \"user\", \"content\": prompt})\n",
        "\n",
        "    response = get_bot_response(prompt)\n",
        "\n",
        "    # Display assistant response in chat message container\n",
        "    with st.chat_message(\"assistant\"):\n",
        "        st.markdown(response, unsafe_allow_html=True)\n",
        "    # Add assistant response to chat history\n",
        "    st.session_state.messages.append({\"role\": \"assistant\", \"content\": response})"
      ]
    },
    {
      "cell_type": "code",
      "execution_count": null,
      "metadata": {
        "id": "o5tnFeCk-nEz"
      },
      "outputs": [],
      "source": []
    }
  ],
  "metadata": {
    "accelerator": "GPU",
    "colab": {
      "gpuType": "L4",
      "machine_shape": "hm",
      "provenance": []
    },
    "kernelspec": {
      "display_name": "Python 3",
      "name": "python3"
    },
    "language_info": {
      "codemirror_mode": {
        "name": "ipython",
        "version": 3
      },
      "file_extension": ".py",
      "mimetype": "text/x-python",
      "name": "python",
      "nbconvert_exporter": "python",
      "pygments_lexer": "ipython3",
      "version": "3.11.7"
    },
    "widgets": {
      "application/vnd.jupyter.widget-state+json": {
        "6a97c2782cb44bf28c28e99482b51e41": {
          "model_module": "@jupyter-widgets/controls",
          "model_name": "HBoxModel",
          "model_module_version": "1.5.0",
          "state": {
            "_dom_classes": [],
            "_model_module": "@jupyter-widgets/controls",
            "_model_module_version": "1.5.0",
            "_model_name": "HBoxModel",
            "_view_count": null,
            "_view_module": "@jupyter-widgets/controls",
            "_view_module_version": "1.5.0",
            "_view_name": "HBoxView",
            "box_style": "",
            "children": [
              "IPY_MODEL_dbb3560fbc78442f9588a9f0edbabddb",
              "IPY_MODEL_70d059ad39aa425987a457afffae9e15",
              "IPY_MODEL_afe6ccd613a3416b94c00ff0f936d1c0"
            ],
            "layout": "IPY_MODEL_8c3ad24626d94f47bdf472f6df66610d"
          }
        },
        "dbb3560fbc78442f9588a9f0edbabddb": {
          "model_module": "@jupyter-widgets/controls",
          "model_name": "HTMLModel",
          "model_module_version": "1.5.0",
          "state": {
            "_dom_classes": [],
            "_model_module": "@jupyter-widgets/controls",
            "_model_module_version": "1.5.0",
            "_model_name": "HTMLModel",
            "_view_count": null,
            "_view_module": "@jupyter-widgets/controls",
            "_view_module_version": "1.5.0",
            "_view_name": "HTMLView",
            "description": "",
            "description_tooltip": null,
            "layout": "IPY_MODEL_32073c8dd4c542e682fd929a9be27a85",
            "placeholder": "​",
            "style": "IPY_MODEL_3c08e8a9439c495481c56567d1228dfa",
            "value": "config.json: 100%"
          }
        },
        "70d059ad39aa425987a457afffae9e15": {
          "model_module": "@jupyter-widgets/controls",
          "model_name": "FloatProgressModel",
          "model_module_version": "1.5.0",
          "state": {
            "_dom_classes": [],
            "_model_module": "@jupyter-widgets/controls",
            "_model_module_version": "1.5.0",
            "_model_name": "FloatProgressModel",
            "_view_count": null,
            "_view_module": "@jupyter-widgets/controls",
            "_view_module_version": "1.5.0",
            "_view_name": "ProgressView",
            "bar_style": "success",
            "description": "",
            "description_tooltip": null,
            "layout": "IPY_MODEL_5b07a40fdd5a42e793ab133574e3413e",
            "max": 515,
            "min": 0,
            "orientation": "horizontal",
            "style": "IPY_MODEL_53a27c8aceaf49b4b15f723ca930abbd",
            "value": 515
          }
        },
        "afe6ccd613a3416b94c00ff0f936d1c0": {
          "model_module": "@jupyter-widgets/controls",
          "model_name": "HTMLModel",
          "model_module_version": "1.5.0",
          "state": {
            "_dom_classes": [],
            "_model_module": "@jupyter-widgets/controls",
            "_model_module_version": "1.5.0",
            "_model_name": "HTMLModel",
            "_view_count": null,
            "_view_module": "@jupyter-widgets/controls",
            "_view_module_version": "1.5.0",
            "_view_name": "HTMLView",
            "description": "",
            "description_tooltip": null,
            "layout": "IPY_MODEL_429e365f7c14479bb99fa886fc6a2a91",
            "placeholder": "​",
            "style": "IPY_MODEL_5b3b4710522f46eeb36b1d8187663b90",
            "value": " 515/515 [00:00&lt;00:00, 40.8kB/s]"
          }
        },
        "8c3ad24626d94f47bdf472f6df66610d": {
          "model_module": "@jupyter-widgets/base",
          "model_name": "LayoutModel",
          "model_module_version": "1.2.0",
          "state": {
            "_model_module": "@jupyter-widgets/base",
            "_model_module_version": "1.2.0",
            "_model_name": "LayoutModel",
            "_view_count": null,
            "_view_module": "@jupyter-widgets/base",
            "_view_module_version": "1.2.0",
            "_view_name": "LayoutView",
            "align_content": null,
            "align_items": null,
            "align_self": null,
            "border": null,
            "bottom": null,
            "display": null,
            "flex": null,
            "flex_flow": null,
            "grid_area": null,
            "grid_auto_columns": null,
            "grid_auto_flow": null,
            "grid_auto_rows": null,
            "grid_column": null,
            "grid_gap": null,
            "grid_row": null,
            "grid_template_areas": null,
            "grid_template_columns": null,
            "grid_template_rows": null,
            "height": null,
            "justify_content": null,
            "justify_items": null,
            "left": null,
            "margin": null,
            "max_height": null,
            "max_width": null,
            "min_height": null,
            "min_width": null,
            "object_fit": null,
            "object_position": null,
            "order": null,
            "overflow": null,
            "overflow_x": null,
            "overflow_y": null,
            "padding": null,
            "right": null,
            "top": null,
            "visibility": null,
            "width": null
          }
        },
        "32073c8dd4c542e682fd929a9be27a85": {
          "model_module": "@jupyter-widgets/base",
          "model_name": "LayoutModel",
          "model_module_version": "1.2.0",
          "state": {
            "_model_module": "@jupyter-widgets/base",
            "_model_module_version": "1.2.0",
            "_model_name": "LayoutModel",
            "_view_count": null,
            "_view_module": "@jupyter-widgets/base",
            "_view_module_version": "1.2.0",
            "_view_name": "LayoutView",
            "align_content": null,
            "align_items": null,
            "align_self": null,
            "border": null,
            "bottom": null,
            "display": null,
            "flex": null,
            "flex_flow": null,
            "grid_area": null,
            "grid_auto_columns": null,
            "grid_auto_flow": null,
            "grid_auto_rows": null,
            "grid_column": null,
            "grid_gap": null,
            "grid_row": null,
            "grid_template_areas": null,
            "grid_template_columns": null,
            "grid_template_rows": null,
            "height": null,
            "justify_content": null,
            "justify_items": null,
            "left": null,
            "margin": null,
            "max_height": null,
            "max_width": null,
            "min_height": null,
            "min_width": null,
            "object_fit": null,
            "object_position": null,
            "order": null,
            "overflow": null,
            "overflow_x": null,
            "overflow_y": null,
            "padding": null,
            "right": null,
            "top": null,
            "visibility": null,
            "width": null
          }
        },
        "3c08e8a9439c495481c56567d1228dfa": {
          "model_module": "@jupyter-widgets/controls",
          "model_name": "DescriptionStyleModel",
          "model_module_version": "1.5.0",
          "state": {
            "_model_module": "@jupyter-widgets/controls",
            "_model_module_version": "1.5.0",
            "_model_name": "DescriptionStyleModel",
            "_view_count": null,
            "_view_module": "@jupyter-widgets/base",
            "_view_module_version": "1.2.0",
            "_view_name": "StyleView",
            "description_width": ""
          }
        },
        "5b07a40fdd5a42e793ab133574e3413e": {
          "model_module": "@jupyter-widgets/base",
          "model_name": "LayoutModel",
          "model_module_version": "1.2.0",
          "state": {
            "_model_module": "@jupyter-widgets/base",
            "_model_module_version": "1.2.0",
            "_model_name": "LayoutModel",
            "_view_count": null,
            "_view_module": "@jupyter-widgets/base",
            "_view_module_version": "1.2.0",
            "_view_name": "LayoutView",
            "align_content": null,
            "align_items": null,
            "align_self": null,
            "border": null,
            "bottom": null,
            "display": null,
            "flex": null,
            "flex_flow": null,
            "grid_area": null,
            "grid_auto_columns": null,
            "grid_auto_flow": null,
            "grid_auto_rows": null,
            "grid_column": null,
            "grid_gap": null,
            "grid_row": null,
            "grid_template_areas": null,
            "grid_template_columns": null,
            "grid_template_rows": null,
            "height": null,
            "justify_content": null,
            "justify_items": null,
            "left": null,
            "margin": null,
            "max_height": null,
            "max_width": null,
            "min_height": null,
            "min_width": null,
            "object_fit": null,
            "object_position": null,
            "order": null,
            "overflow": null,
            "overflow_x": null,
            "overflow_y": null,
            "padding": null,
            "right": null,
            "top": null,
            "visibility": null,
            "width": null
          }
        },
        "53a27c8aceaf49b4b15f723ca930abbd": {
          "model_module": "@jupyter-widgets/controls",
          "model_name": "ProgressStyleModel",
          "model_module_version": "1.5.0",
          "state": {
            "_model_module": "@jupyter-widgets/controls",
            "_model_module_version": "1.5.0",
            "_model_name": "ProgressStyleModel",
            "_view_count": null,
            "_view_module": "@jupyter-widgets/base",
            "_view_module_version": "1.2.0",
            "_view_name": "StyleView",
            "bar_color": null,
            "description_width": ""
          }
        },
        "429e365f7c14479bb99fa886fc6a2a91": {
          "model_module": "@jupyter-widgets/base",
          "model_name": "LayoutModel",
          "model_module_version": "1.2.0",
          "state": {
            "_model_module": "@jupyter-widgets/base",
            "_model_module_version": "1.2.0",
            "_model_name": "LayoutModel",
            "_view_count": null,
            "_view_module": "@jupyter-widgets/base",
            "_view_module_version": "1.2.0",
            "_view_name": "LayoutView",
            "align_content": null,
            "align_items": null,
            "align_self": null,
            "border": null,
            "bottom": null,
            "display": null,
            "flex": null,
            "flex_flow": null,
            "grid_area": null,
            "grid_auto_columns": null,
            "grid_auto_flow": null,
            "grid_auto_rows": null,
            "grid_column": null,
            "grid_gap": null,
            "grid_row": null,
            "grid_template_areas": null,
            "grid_template_columns": null,
            "grid_template_rows": null,
            "height": null,
            "justify_content": null,
            "justify_items": null,
            "left": null,
            "margin": null,
            "max_height": null,
            "max_width": null,
            "min_height": null,
            "min_width": null,
            "object_fit": null,
            "object_position": null,
            "order": null,
            "overflow": null,
            "overflow_x": null,
            "overflow_y": null,
            "padding": null,
            "right": null,
            "top": null,
            "visibility": null,
            "width": null
          }
        },
        "5b3b4710522f46eeb36b1d8187663b90": {
          "model_module": "@jupyter-widgets/controls",
          "model_name": "DescriptionStyleModel",
          "model_module_version": "1.5.0",
          "state": {
            "_model_module": "@jupyter-widgets/controls",
            "_model_module_version": "1.5.0",
            "_model_name": "DescriptionStyleModel",
            "_view_count": null,
            "_view_module": "@jupyter-widgets/base",
            "_view_module_version": "1.2.0",
            "_view_name": "StyleView",
            "description_width": ""
          }
        },
        "77dbceb18e7d4f8d8bf5de3b1ba63c72": {
          "model_module": "@jupyter-widgets/controls",
          "model_name": "HBoxModel",
          "model_module_version": "1.5.0",
          "state": {
            "_dom_classes": [],
            "_model_module": "@jupyter-widgets/controls",
            "_model_module_version": "1.5.0",
            "_model_name": "HBoxModel",
            "_view_count": null,
            "_view_module": "@jupyter-widgets/controls",
            "_view_module_version": "1.5.0",
            "_view_name": "HBoxView",
            "box_style": "",
            "children": [
              "IPY_MODEL_02d5e20ec44e4957a022ca81ec1e76a1",
              "IPY_MODEL_003958e55a4d494eba5229a09af7558b",
              "IPY_MODEL_1eedb9cfc708411499e9ea429370f845"
            ],
            "layout": "IPY_MODEL_ac360cfefe5745ddae1d7915655bacf0"
          }
        },
        "02d5e20ec44e4957a022ca81ec1e76a1": {
          "model_module": "@jupyter-widgets/controls",
          "model_name": "HTMLModel",
          "model_module_version": "1.5.0",
          "state": {
            "_dom_classes": [],
            "_model_module": "@jupyter-widgets/controls",
            "_model_module_version": "1.5.0",
            "_model_name": "HTMLModel",
            "_view_count": null,
            "_view_module": "@jupyter-widgets/controls",
            "_view_module_version": "1.5.0",
            "_view_name": "HTMLView",
            "description": "",
            "description_tooltip": null,
            "layout": "IPY_MODEL_3b7542d9ea564c3ea0a400258c599379",
            "placeholder": "​",
            "style": "IPY_MODEL_bebf5567de0441368f9320e3f0e0059e",
            "value": "vocab.json: 100%"
          }
        },
        "003958e55a4d494eba5229a09af7558b": {
          "model_module": "@jupyter-widgets/controls",
          "model_name": "FloatProgressModel",
          "model_module_version": "1.5.0",
          "state": {
            "_dom_classes": [],
            "_model_module": "@jupyter-widgets/controls",
            "_model_module_version": "1.5.0",
            "_model_name": "FloatProgressModel",
            "_view_count": null,
            "_view_module": "@jupyter-widgets/controls",
            "_view_module_version": "1.5.0",
            "_view_name": "ProgressView",
            "bar_style": "success",
            "description": "",
            "description_tooltip": null,
            "layout": "IPY_MODEL_e9e5d4394e6e4de7a3438d9f64011023",
            "max": 880805,
            "min": 0,
            "orientation": "horizontal",
            "style": "IPY_MODEL_750481a40d24461e9e2bac921e43d141",
            "value": 880805
          }
        },
        "1eedb9cfc708411499e9ea429370f845": {
          "model_module": "@jupyter-widgets/controls",
          "model_name": "HTMLModel",
          "model_module_version": "1.5.0",
          "state": {
            "_dom_classes": [],
            "_model_module": "@jupyter-widgets/controls",
            "_model_module_version": "1.5.0",
            "_model_name": "HTMLModel",
            "_view_count": null,
            "_view_module": "@jupyter-widgets/controls",
            "_view_module_version": "1.5.0",
            "_view_name": "HTMLView",
            "description": "",
            "description_tooltip": null,
            "layout": "IPY_MODEL_0048be48162d4312afdc38bdfca52acc",
            "placeholder": "​",
            "style": "IPY_MODEL_60d292d2471743a6bc5df0590adaf412",
            "value": " 881k/881k [00:00&lt;00:00, 3.32MB/s]"
          }
        },
        "ac360cfefe5745ddae1d7915655bacf0": {
          "model_module": "@jupyter-widgets/base",
          "model_name": "LayoutModel",
          "model_module_version": "1.2.0",
          "state": {
            "_model_module": "@jupyter-widgets/base",
            "_model_module_version": "1.2.0",
            "_model_name": "LayoutModel",
            "_view_count": null,
            "_view_module": "@jupyter-widgets/base",
            "_view_module_version": "1.2.0",
            "_view_name": "LayoutView",
            "align_content": null,
            "align_items": null,
            "align_self": null,
            "border": null,
            "bottom": null,
            "display": null,
            "flex": null,
            "flex_flow": null,
            "grid_area": null,
            "grid_auto_columns": null,
            "grid_auto_flow": null,
            "grid_auto_rows": null,
            "grid_column": null,
            "grid_gap": null,
            "grid_row": null,
            "grid_template_areas": null,
            "grid_template_columns": null,
            "grid_template_rows": null,
            "height": null,
            "justify_content": null,
            "justify_items": null,
            "left": null,
            "margin": null,
            "max_height": null,
            "max_width": null,
            "min_height": null,
            "min_width": null,
            "object_fit": null,
            "object_position": null,
            "order": null,
            "overflow": null,
            "overflow_x": null,
            "overflow_y": null,
            "padding": null,
            "right": null,
            "top": null,
            "visibility": null,
            "width": null
          }
        },
        "3b7542d9ea564c3ea0a400258c599379": {
          "model_module": "@jupyter-widgets/base",
          "model_name": "LayoutModel",
          "model_module_version": "1.2.0",
          "state": {
            "_model_module": "@jupyter-widgets/base",
            "_model_module_version": "1.2.0",
            "_model_name": "LayoutModel",
            "_view_count": null,
            "_view_module": "@jupyter-widgets/base",
            "_view_module_version": "1.2.0",
            "_view_name": "LayoutView",
            "align_content": null,
            "align_items": null,
            "align_self": null,
            "border": null,
            "bottom": null,
            "display": null,
            "flex": null,
            "flex_flow": null,
            "grid_area": null,
            "grid_auto_columns": null,
            "grid_auto_flow": null,
            "grid_auto_rows": null,
            "grid_column": null,
            "grid_gap": null,
            "grid_row": null,
            "grid_template_areas": null,
            "grid_template_columns": null,
            "grid_template_rows": null,
            "height": null,
            "justify_content": null,
            "justify_items": null,
            "left": null,
            "margin": null,
            "max_height": null,
            "max_width": null,
            "min_height": null,
            "min_width": null,
            "object_fit": null,
            "object_position": null,
            "order": null,
            "overflow": null,
            "overflow_x": null,
            "overflow_y": null,
            "padding": null,
            "right": null,
            "top": null,
            "visibility": null,
            "width": null
          }
        },
        "bebf5567de0441368f9320e3f0e0059e": {
          "model_module": "@jupyter-widgets/controls",
          "model_name": "DescriptionStyleModel",
          "model_module_version": "1.5.0",
          "state": {
            "_model_module": "@jupyter-widgets/controls",
            "_model_module_version": "1.5.0",
            "_model_name": "DescriptionStyleModel",
            "_view_count": null,
            "_view_module": "@jupyter-widgets/base",
            "_view_module_version": "1.2.0",
            "_view_name": "StyleView",
            "description_width": ""
          }
        },
        "e9e5d4394e6e4de7a3438d9f64011023": {
          "model_module": "@jupyter-widgets/base",
          "model_name": "LayoutModel",
          "model_module_version": "1.2.0",
          "state": {
            "_model_module": "@jupyter-widgets/base",
            "_model_module_version": "1.2.0",
            "_model_name": "LayoutModel",
            "_view_count": null,
            "_view_module": "@jupyter-widgets/base",
            "_view_module_version": "1.2.0",
            "_view_name": "LayoutView",
            "align_content": null,
            "align_items": null,
            "align_self": null,
            "border": null,
            "bottom": null,
            "display": null,
            "flex": null,
            "flex_flow": null,
            "grid_area": null,
            "grid_auto_columns": null,
            "grid_auto_flow": null,
            "grid_auto_rows": null,
            "grid_column": null,
            "grid_gap": null,
            "grid_row": null,
            "grid_template_areas": null,
            "grid_template_columns": null,
            "grid_template_rows": null,
            "height": null,
            "justify_content": null,
            "justify_items": null,
            "left": null,
            "margin": null,
            "max_height": null,
            "max_width": null,
            "min_height": null,
            "min_width": null,
            "object_fit": null,
            "object_position": null,
            "order": null,
            "overflow": null,
            "overflow_x": null,
            "overflow_y": null,
            "padding": null,
            "right": null,
            "top": null,
            "visibility": null,
            "width": null
          }
        },
        "750481a40d24461e9e2bac921e43d141": {
          "model_module": "@jupyter-widgets/controls",
          "model_name": "ProgressStyleModel",
          "model_module_version": "1.5.0",
          "state": {
            "_model_module": "@jupyter-widgets/controls",
            "_model_module_version": "1.5.0",
            "_model_name": "ProgressStyleModel",
            "_view_count": null,
            "_view_module": "@jupyter-widgets/base",
            "_view_module_version": "1.2.0",
            "_view_name": "StyleView",
            "bar_color": null,
            "description_width": ""
          }
        },
        "0048be48162d4312afdc38bdfca52acc": {
          "model_module": "@jupyter-widgets/base",
          "model_name": "LayoutModel",
          "model_module_version": "1.2.0",
          "state": {
            "_model_module": "@jupyter-widgets/base",
            "_model_module_version": "1.2.0",
            "_model_name": "LayoutModel",
            "_view_count": null,
            "_view_module": "@jupyter-widgets/base",
            "_view_module_version": "1.2.0",
            "_view_name": "LayoutView",
            "align_content": null,
            "align_items": null,
            "align_self": null,
            "border": null,
            "bottom": null,
            "display": null,
            "flex": null,
            "flex_flow": null,
            "grid_area": null,
            "grid_auto_columns": null,
            "grid_auto_flow": null,
            "grid_auto_rows": null,
            "grid_column": null,
            "grid_gap": null,
            "grid_row": null,
            "grid_template_areas": null,
            "grid_template_columns": null,
            "grid_template_rows": null,
            "height": null,
            "justify_content": null,
            "justify_items": null,
            "left": null,
            "margin": null,
            "max_height": null,
            "max_width": null,
            "min_height": null,
            "min_width": null,
            "object_fit": null,
            "object_position": null,
            "order": null,
            "overflow": null,
            "overflow_x": null,
            "overflow_y": null,
            "padding": null,
            "right": null,
            "top": null,
            "visibility": null,
            "width": null
          }
        },
        "60d292d2471743a6bc5df0590adaf412": {
          "model_module": "@jupyter-widgets/controls",
          "model_name": "DescriptionStyleModel",
          "model_module_version": "1.5.0",
          "state": {
            "_model_module": "@jupyter-widgets/controls",
            "_model_module_version": "1.5.0",
            "_model_name": "DescriptionStyleModel",
            "_view_count": null,
            "_view_module": "@jupyter-widgets/base",
            "_view_module_version": "1.2.0",
            "_view_name": "StyleView",
            "description_width": ""
          }
        },
        "42a3a8053da041bf97fae3d57297541c": {
          "model_module": "@jupyter-widgets/controls",
          "model_name": "HBoxModel",
          "model_module_version": "1.5.0",
          "state": {
            "_dom_classes": [],
            "_model_module": "@jupyter-widgets/controls",
            "_model_module_version": "1.5.0",
            "_model_name": "HBoxModel",
            "_view_count": null,
            "_view_module": "@jupyter-widgets/controls",
            "_view_module_version": "1.5.0",
            "_view_name": "HBoxView",
            "box_style": "",
            "children": [
              "IPY_MODEL_583ae67509fd46b78d00304d5f8cf429",
              "IPY_MODEL_809d3ff073d74e58bc59e7d812b96847",
              "IPY_MODEL_7cc5576335ce4ae5a7b9c7d65b3a3e22"
            ],
            "layout": "IPY_MODEL_130d0243816f4ab29992f4dc49e6ed68"
          }
        },
        "583ae67509fd46b78d00304d5f8cf429": {
          "model_module": "@jupyter-widgets/controls",
          "model_name": "HTMLModel",
          "model_module_version": "1.5.0",
          "state": {
            "_dom_classes": [],
            "_model_module": "@jupyter-widgets/controls",
            "_model_module_version": "1.5.0",
            "_model_name": "HTMLModel",
            "_view_count": null,
            "_view_module": "@jupyter-widgets/controls",
            "_view_module_version": "1.5.0",
            "_view_name": "HTMLView",
            "description": "",
            "description_tooltip": null,
            "layout": "IPY_MODEL_df598a811aff4ca29d3d4514501db3b9",
            "placeholder": "​",
            "style": "IPY_MODEL_c342925977954cc887fc2074728cd654",
            "value": "merges.txt: 100%"
          }
        },
        "809d3ff073d74e58bc59e7d812b96847": {
          "model_module": "@jupyter-widgets/controls",
          "model_name": "FloatProgressModel",
          "model_module_version": "1.5.0",
          "state": {
            "_dom_classes": [],
            "_model_module": "@jupyter-widgets/controls",
            "_model_module_version": "1.5.0",
            "_model_name": "FloatProgressModel",
            "_view_count": null,
            "_view_module": "@jupyter-widgets/controls",
            "_view_module_version": "1.5.0",
            "_view_name": "ProgressView",
            "bar_style": "success",
            "description": "",
            "description_tooltip": null,
            "layout": "IPY_MODEL_c277d134865840cd83c24e487467bf45",
            "max": 527001,
            "min": 0,
            "orientation": "horizontal",
            "style": "IPY_MODEL_51e5cff4cff745c5a36aee0ff8558042",
            "value": 527001
          }
        },
        "7cc5576335ce4ae5a7b9c7d65b3a3e22": {
          "model_module": "@jupyter-widgets/controls",
          "model_name": "HTMLModel",
          "model_module_version": "1.5.0",
          "state": {
            "_dom_classes": [],
            "_model_module": "@jupyter-widgets/controls",
            "_model_module_version": "1.5.0",
            "_model_name": "HTMLModel",
            "_view_count": null,
            "_view_module": "@jupyter-widgets/controls",
            "_view_module_version": "1.5.0",
            "_view_name": "HTMLView",
            "description": "",
            "description_tooltip": null,
            "layout": "IPY_MODEL_c981e3c0051c4812847ef0589d74ec61",
            "placeholder": "​",
            "style": "IPY_MODEL_ae5e6cd8edb240d5936b9208d1535092",
            "value": " 527k/527k [00:00&lt;00:00, 2.70MB/s]"
          }
        },
        "130d0243816f4ab29992f4dc49e6ed68": {
          "model_module": "@jupyter-widgets/base",
          "model_name": "LayoutModel",
          "model_module_version": "1.2.0",
          "state": {
            "_model_module": "@jupyter-widgets/base",
            "_model_module_version": "1.2.0",
            "_model_name": "LayoutModel",
            "_view_count": null,
            "_view_module": "@jupyter-widgets/base",
            "_view_module_version": "1.2.0",
            "_view_name": "LayoutView",
            "align_content": null,
            "align_items": null,
            "align_self": null,
            "border": null,
            "bottom": null,
            "display": null,
            "flex": null,
            "flex_flow": null,
            "grid_area": null,
            "grid_auto_columns": null,
            "grid_auto_flow": null,
            "grid_auto_rows": null,
            "grid_column": null,
            "grid_gap": null,
            "grid_row": null,
            "grid_template_areas": null,
            "grid_template_columns": null,
            "grid_template_rows": null,
            "height": null,
            "justify_content": null,
            "justify_items": null,
            "left": null,
            "margin": null,
            "max_height": null,
            "max_width": null,
            "min_height": null,
            "min_width": null,
            "object_fit": null,
            "object_position": null,
            "order": null,
            "overflow": null,
            "overflow_x": null,
            "overflow_y": null,
            "padding": null,
            "right": null,
            "top": null,
            "visibility": null,
            "width": null
          }
        },
        "df598a811aff4ca29d3d4514501db3b9": {
          "model_module": "@jupyter-widgets/base",
          "model_name": "LayoutModel",
          "model_module_version": "1.2.0",
          "state": {
            "_model_module": "@jupyter-widgets/base",
            "_model_module_version": "1.2.0",
            "_model_name": "LayoutModel",
            "_view_count": null,
            "_view_module": "@jupyter-widgets/base",
            "_view_module_version": "1.2.0",
            "_view_name": "LayoutView",
            "align_content": null,
            "align_items": null,
            "align_self": null,
            "border": null,
            "bottom": null,
            "display": null,
            "flex": null,
            "flex_flow": null,
            "grid_area": null,
            "grid_auto_columns": null,
            "grid_auto_flow": null,
            "grid_auto_rows": null,
            "grid_column": null,
            "grid_gap": null,
            "grid_row": null,
            "grid_template_areas": null,
            "grid_template_columns": null,
            "grid_template_rows": null,
            "height": null,
            "justify_content": null,
            "justify_items": null,
            "left": null,
            "margin": null,
            "max_height": null,
            "max_width": null,
            "min_height": null,
            "min_width": null,
            "object_fit": null,
            "object_position": null,
            "order": null,
            "overflow": null,
            "overflow_x": null,
            "overflow_y": null,
            "padding": null,
            "right": null,
            "top": null,
            "visibility": null,
            "width": null
          }
        },
        "c342925977954cc887fc2074728cd654": {
          "model_module": "@jupyter-widgets/controls",
          "model_name": "DescriptionStyleModel",
          "model_module_version": "1.5.0",
          "state": {
            "_model_module": "@jupyter-widgets/controls",
            "_model_module_version": "1.5.0",
            "_model_name": "DescriptionStyleModel",
            "_view_count": null,
            "_view_module": "@jupyter-widgets/base",
            "_view_module_version": "1.2.0",
            "_view_name": "StyleView",
            "description_width": ""
          }
        },
        "c277d134865840cd83c24e487467bf45": {
          "model_module": "@jupyter-widgets/base",
          "model_name": "LayoutModel",
          "model_module_version": "1.2.0",
          "state": {
            "_model_module": "@jupyter-widgets/base",
            "_model_module_version": "1.2.0",
            "_model_name": "LayoutModel",
            "_view_count": null,
            "_view_module": "@jupyter-widgets/base",
            "_view_module_version": "1.2.0",
            "_view_name": "LayoutView",
            "align_content": null,
            "align_items": null,
            "align_self": null,
            "border": null,
            "bottom": null,
            "display": null,
            "flex": null,
            "flex_flow": null,
            "grid_area": null,
            "grid_auto_columns": null,
            "grid_auto_flow": null,
            "grid_auto_rows": null,
            "grid_column": null,
            "grid_gap": null,
            "grid_row": null,
            "grid_template_areas": null,
            "grid_template_columns": null,
            "grid_template_rows": null,
            "height": null,
            "justify_content": null,
            "justify_items": null,
            "left": null,
            "margin": null,
            "max_height": null,
            "max_width": null,
            "min_height": null,
            "min_width": null,
            "object_fit": null,
            "object_position": null,
            "order": null,
            "overflow": null,
            "overflow_x": null,
            "overflow_y": null,
            "padding": null,
            "right": null,
            "top": null,
            "visibility": null,
            "width": null
          }
        },
        "51e5cff4cff745c5a36aee0ff8558042": {
          "model_module": "@jupyter-widgets/controls",
          "model_name": "ProgressStyleModel",
          "model_module_version": "1.5.0",
          "state": {
            "_model_module": "@jupyter-widgets/controls",
            "_model_module_version": "1.5.0",
            "_model_name": "ProgressStyleModel",
            "_view_count": null,
            "_view_module": "@jupyter-widgets/base",
            "_view_module_version": "1.2.0",
            "_view_name": "StyleView",
            "bar_color": null,
            "description_width": ""
          }
        },
        "c981e3c0051c4812847ef0589d74ec61": {
          "model_module": "@jupyter-widgets/base",
          "model_name": "LayoutModel",
          "model_module_version": "1.2.0",
          "state": {
            "_model_module": "@jupyter-widgets/base",
            "_model_module_version": "1.2.0",
            "_model_name": "LayoutModel",
            "_view_count": null,
            "_view_module": "@jupyter-widgets/base",
            "_view_module_version": "1.2.0",
            "_view_name": "LayoutView",
            "align_content": null,
            "align_items": null,
            "align_self": null,
            "border": null,
            "bottom": null,
            "display": null,
            "flex": null,
            "flex_flow": null,
            "grid_area": null,
            "grid_auto_columns": null,
            "grid_auto_flow": null,
            "grid_auto_rows": null,
            "grid_column": null,
            "grid_gap": null,
            "grid_row": null,
            "grid_template_areas": null,
            "grid_template_columns": null,
            "grid_template_rows": null,
            "height": null,
            "justify_content": null,
            "justify_items": null,
            "left": null,
            "margin": null,
            "max_height": null,
            "max_width": null,
            "min_height": null,
            "min_width": null,
            "object_fit": null,
            "object_position": null,
            "order": null,
            "overflow": null,
            "overflow_x": null,
            "overflow_y": null,
            "padding": null,
            "right": null,
            "top": null,
            "visibility": null,
            "width": null
          }
        },
        "ae5e6cd8edb240d5936b9208d1535092": {
          "model_module": "@jupyter-widgets/controls",
          "model_name": "DescriptionStyleModel",
          "model_module_version": "1.5.0",
          "state": {
            "_model_module": "@jupyter-widgets/controls",
            "_model_module_version": "1.5.0",
            "_model_name": "DescriptionStyleModel",
            "_view_count": null,
            "_view_module": "@jupyter-widgets/base",
            "_view_module_version": "1.2.0",
            "_view_name": "StyleView",
            "description_width": ""
          }
        },
        "65eef0e8287646278de00e12cf298de6": {
          "model_module": "@jupyter-widgets/controls",
          "model_name": "HBoxModel",
          "model_module_version": "1.5.0",
          "state": {
            "_dom_classes": [],
            "_model_module": "@jupyter-widgets/controls",
            "_model_module_version": "1.5.0",
            "_model_name": "HBoxModel",
            "_view_count": null,
            "_view_module": "@jupyter-widgets/controls",
            "_view_module_version": "1.5.0",
            "_view_name": "HBoxView",
            "box_style": "",
            "children": [
              "IPY_MODEL_a6bf471e1c69456382ecb2e6f8ceb93c",
              "IPY_MODEL_18c3ca89854f40d0a5e01b250f4194ff",
              "IPY_MODEL_4d5b8100cda84773866ce872b069be35"
            ],
            "layout": "IPY_MODEL_6d0e3c7f1850499c9961768b3639f0e1"
          }
        },
        "a6bf471e1c69456382ecb2e6f8ceb93c": {
          "model_module": "@jupyter-widgets/controls",
          "model_name": "HTMLModel",
          "model_module_version": "1.5.0",
          "state": {
            "_dom_classes": [],
            "_model_module": "@jupyter-widgets/controls",
            "_model_module_version": "1.5.0",
            "_model_name": "HTMLModel",
            "_view_count": null,
            "_view_module": "@jupyter-widgets/controls",
            "_view_module_version": "1.5.0",
            "_view_name": "HTMLView",
            "description": "",
            "description_tooltip": null,
            "layout": "IPY_MODEL_d535071933de44ebac562d8d881de20e",
            "placeholder": "​",
            "style": "IPY_MODEL_9d1d97938834487abb65d366ccfd9d46",
            "value": "pytorch_model.bin: 100%"
          }
        },
        "18c3ca89854f40d0a5e01b250f4194ff": {
          "model_module": "@jupyter-widgets/controls",
          "model_name": "FloatProgressModel",
          "model_module_version": "1.5.0",
          "state": {
            "_dom_classes": [],
            "_model_module": "@jupyter-widgets/controls",
            "_model_module_version": "1.5.0",
            "_model_name": "FloatProgressModel",
            "_view_count": null,
            "_view_module": "@jupyter-widgets/controls",
            "_view_module_version": "1.5.0",
            "_view_name": "ProgressView",
            "bar_style": "success",
            "description": "",
            "description_tooltip": null,
            "layout": "IPY_MODEL_b499785baa354d1294819eb523b2e453",
            "max": 336411797,
            "min": 0,
            "orientation": "horizontal",
            "style": "IPY_MODEL_08a8467136de4362a3eb54ea26e6fb40",
            "value": 336411797
          }
        },
        "4d5b8100cda84773866ce872b069be35": {
          "model_module": "@jupyter-widgets/controls",
          "model_name": "HTMLModel",
          "model_module_version": "1.5.0",
          "state": {
            "_dom_classes": [],
            "_model_module": "@jupyter-widgets/controls",
            "_model_module_version": "1.5.0",
            "_model_name": "HTMLModel",
            "_view_count": null,
            "_view_module": "@jupyter-widgets/controls",
            "_view_module_version": "1.5.0",
            "_view_name": "HTMLView",
            "description": "",
            "description_tooltip": null,
            "layout": "IPY_MODEL_50fd716c2b1949f387d8f7418e271abb",
            "placeholder": "​",
            "style": "IPY_MODEL_f0635cfa27014243a4df0ba5c3617cfa",
            "value": " 336M/336M [00:02&lt;00:00, 182MB/s]"
          }
        },
        "6d0e3c7f1850499c9961768b3639f0e1": {
          "model_module": "@jupyter-widgets/base",
          "model_name": "LayoutModel",
          "model_module_version": "1.2.0",
          "state": {
            "_model_module": "@jupyter-widgets/base",
            "_model_module_version": "1.2.0",
            "_model_name": "LayoutModel",
            "_view_count": null,
            "_view_module": "@jupyter-widgets/base",
            "_view_module_version": "1.2.0",
            "_view_name": "LayoutView",
            "align_content": null,
            "align_items": null,
            "align_self": null,
            "border": null,
            "bottom": null,
            "display": null,
            "flex": null,
            "flex_flow": null,
            "grid_area": null,
            "grid_auto_columns": null,
            "grid_auto_flow": null,
            "grid_auto_rows": null,
            "grid_column": null,
            "grid_gap": null,
            "grid_row": null,
            "grid_template_areas": null,
            "grid_template_columns": null,
            "grid_template_rows": null,
            "height": null,
            "justify_content": null,
            "justify_items": null,
            "left": null,
            "margin": null,
            "max_height": null,
            "max_width": null,
            "min_height": null,
            "min_width": null,
            "object_fit": null,
            "object_position": null,
            "order": null,
            "overflow": null,
            "overflow_x": null,
            "overflow_y": null,
            "padding": null,
            "right": null,
            "top": null,
            "visibility": null,
            "width": null
          }
        },
        "d535071933de44ebac562d8d881de20e": {
          "model_module": "@jupyter-widgets/base",
          "model_name": "LayoutModel",
          "model_module_version": "1.2.0",
          "state": {
            "_model_module": "@jupyter-widgets/base",
            "_model_module_version": "1.2.0",
            "_model_name": "LayoutModel",
            "_view_count": null,
            "_view_module": "@jupyter-widgets/base",
            "_view_module_version": "1.2.0",
            "_view_name": "LayoutView",
            "align_content": null,
            "align_items": null,
            "align_self": null,
            "border": null,
            "bottom": null,
            "display": null,
            "flex": null,
            "flex_flow": null,
            "grid_area": null,
            "grid_auto_columns": null,
            "grid_auto_flow": null,
            "grid_auto_rows": null,
            "grid_column": null,
            "grid_gap": null,
            "grid_row": null,
            "grid_template_areas": null,
            "grid_template_columns": null,
            "grid_template_rows": null,
            "height": null,
            "justify_content": null,
            "justify_items": null,
            "left": null,
            "margin": null,
            "max_height": null,
            "max_width": null,
            "min_height": null,
            "min_width": null,
            "object_fit": null,
            "object_position": null,
            "order": null,
            "overflow": null,
            "overflow_x": null,
            "overflow_y": null,
            "padding": null,
            "right": null,
            "top": null,
            "visibility": null,
            "width": null
          }
        },
        "9d1d97938834487abb65d366ccfd9d46": {
          "model_module": "@jupyter-widgets/controls",
          "model_name": "DescriptionStyleModel",
          "model_module_version": "1.5.0",
          "state": {
            "_model_module": "@jupyter-widgets/controls",
            "_model_module_version": "1.5.0",
            "_model_name": "DescriptionStyleModel",
            "_view_count": null,
            "_view_module": "@jupyter-widgets/base",
            "_view_module_version": "1.2.0",
            "_view_name": "StyleView",
            "description_width": ""
          }
        },
        "b499785baa354d1294819eb523b2e453": {
          "model_module": "@jupyter-widgets/base",
          "model_name": "LayoutModel",
          "model_module_version": "1.2.0",
          "state": {
            "_model_module": "@jupyter-widgets/base",
            "_model_module_version": "1.2.0",
            "_model_name": "LayoutModel",
            "_view_count": null,
            "_view_module": "@jupyter-widgets/base",
            "_view_module_version": "1.2.0",
            "_view_name": "LayoutView",
            "align_content": null,
            "align_items": null,
            "align_self": null,
            "border": null,
            "bottom": null,
            "display": null,
            "flex": null,
            "flex_flow": null,
            "grid_area": null,
            "grid_auto_columns": null,
            "grid_auto_flow": null,
            "grid_auto_rows": null,
            "grid_column": null,
            "grid_gap": null,
            "grid_row": null,
            "grid_template_areas": null,
            "grid_template_columns": null,
            "grid_template_rows": null,
            "height": null,
            "justify_content": null,
            "justify_items": null,
            "left": null,
            "margin": null,
            "max_height": null,
            "max_width": null,
            "min_height": null,
            "min_width": null,
            "object_fit": null,
            "object_position": null,
            "order": null,
            "overflow": null,
            "overflow_x": null,
            "overflow_y": null,
            "padding": null,
            "right": null,
            "top": null,
            "visibility": null,
            "width": null
          }
        },
        "08a8467136de4362a3eb54ea26e6fb40": {
          "model_module": "@jupyter-widgets/controls",
          "model_name": "ProgressStyleModel",
          "model_module_version": "1.5.0",
          "state": {
            "_model_module": "@jupyter-widgets/controls",
            "_model_module_version": "1.5.0",
            "_model_name": "ProgressStyleModel",
            "_view_count": null,
            "_view_module": "@jupyter-widgets/base",
            "_view_module_version": "1.2.0",
            "_view_name": "StyleView",
            "bar_color": null,
            "description_width": ""
          }
        },
        "50fd716c2b1949f387d8f7418e271abb": {
          "model_module": "@jupyter-widgets/base",
          "model_name": "LayoutModel",
          "model_module_version": "1.2.0",
          "state": {
            "_model_module": "@jupyter-widgets/base",
            "_model_module_version": "1.2.0",
            "_model_name": "LayoutModel",
            "_view_count": null,
            "_view_module": "@jupyter-widgets/base",
            "_view_module_version": "1.2.0",
            "_view_name": "LayoutView",
            "align_content": null,
            "align_items": null,
            "align_self": null,
            "border": null,
            "bottom": null,
            "display": null,
            "flex": null,
            "flex_flow": null,
            "grid_area": null,
            "grid_auto_columns": null,
            "grid_auto_flow": null,
            "grid_auto_rows": null,
            "grid_column": null,
            "grid_gap": null,
            "grid_row": null,
            "grid_template_areas": null,
            "grid_template_columns": null,
            "grid_template_rows": null,
            "height": null,
            "justify_content": null,
            "justify_items": null,
            "left": null,
            "margin": null,
            "max_height": null,
            "max_width": null,
            "min_height": null,
            "min_width": null,
            "object_fit": null,
            "object_position": null,
            "order": null,
            "overflow": null,
            "overflow_x": null,
            "overflow_y": null,
            "padding": null,
            "right": null,
            "top": null,
            "visibility": null,
            "width": null
          }
        },
        "f0635cfa27014243a4df0ba5c3617cfa": {
          "model_module": "@jupyter-widgets/controls",
          "model_name": "DescriptionStyleModel",
          "model_module_version": "1.5.0",
          "state": {
            "_model_module": "@jupyter-widgets/controls",
            "_model_module_version": "1.5.0",
            "_model_name": "DescriptionStyleModel",
            "_view_count": null,
            "_view_module": "@jupyter-widgets/base",
            "_view_module_version": "1.2.0",
            "_view_name": "StyleView",
            "description_width": ""
          }
        }
      }
    }
  },
  "nbformat": 4,
  "nbformat_minor": 0
}